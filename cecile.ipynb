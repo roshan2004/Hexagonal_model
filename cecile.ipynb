{
 "cells": [
  {
   "cell_type": "code",
   "execution_count": 1,
   "id": "bf3c29c3",
   "metadata": {},
   "outputs": [
    {
     "name": "stderr",
     "output_type": "stream",
     "text": [
      "/home/chilpert/miniconda3/envs/graphene/lib/python3.11/site-packages/tqdm/auto.py:22: TqdmWarning: IProgress not found. Please update jupyter and ipywidgets. See https://ipywidgets.readthedocs.io/en/stable/user_install.html\n",
      "  from .autonotebook import tqdm as notebook_tqdm\n",
      "/home/chilpert/miniconda3/envs/graphene/lib/python3.11/site-packages/MDAnalysis/topology/TPRParser.py:160: DeprecationWarning: 'xdrlib' is deprecated and slated for removal in Python 3.13\n",
      "  import xdrlib\n"
     ]
    }
   ],
   "source": [
    "import MDAnalysis as mda\n",
    "import numpy as np"
   ]
  },
  {
   "cell_type": "code",
   "execution_count": 2,
   "id": "fd2761f2",
   "metadata": {},
   "outputs": [
    {
     "name": "stderr",
     "output_type": "stream",
     "text": [
      "/home/chilpert/miniconda3/envs/graphene/lib/python3.11/site-packages/MDAnalysis/topology/guessers.py:146: UserWarning: Failed to guess the mass for the following atom types: X\n",
      "  warnings.warn(\"Failed to guess the mass for the following atom types: {}\".format(atom_type))\n",
      "/home/chilpert/miniconda3/envs/graphene/lib/python3.11/site-packages/MDAnalysis/coordinates/GRO.py:228: UserWarning: Empty box [0., 0., 0.] found - treating as missing unit cell. Dimensions set to `None`.\n",
      "  warnings.warn(wmsg)\n"
     ]
    }
   ],
   "source": [
    "\n",
    "u = mda.Universe('input.gro')\n",
    "c = np.unique(u.atoms.positions[:,1]) # finding the unique y-coordinate so that we can loop through each row of atoms\n",
    "u.atoms.masses = 36    # Since it's a TC5 bead, we use a mass of 36 for each"
   ]
  },
  {
   "cell_type": "code",
   "execution_count": 3,
   "id": "a51d878f",
   "metadata": {},
   "outputs": [],
   "source": [
    "for j in range(len(c)): # Looping through each row, defined by the y-coordinate\n",
    "    if (j !=0) and (j !=len(c)-1):\n",
    "        if j % 2 !=0:\n",
    "            group = u.atoms[u.atoms.positions[:,1] == c[j]]\n",
    "            gr = np.arange(1, len(group), 3)\n",
    "         \n",
    "            for k in gr:\n",
    "                u.atoms[group[k].index].mass = 0\n",
    "            \n",
    "        else:\n",
    "            group = u.atoms[u.atoms.positions[:,1] == c[j]]\n",
    "            gr = np.arange(2, len(group), 3)\n",
    "            for k in gr:\n",
    "                u.atoms[group[k].index].mass = 0\n",
    "                "
   ]
  },
  {
   "cell_type": "code",
   "execution_count": 4,
   "id": "2eb7c7ef",
   "metadata": {},
   "outputs": [],
   "source": [
    "v = u.atoms[u.atoms.masses !=0]"
   ]
  },
  {
   "cell_type": "code",
   "execution_count": 5,
   "id": "4ab836fb",
   "metadata": {},
   "outputs": [],
   "source": [
    "def hexagon(universe):\n",
    "    \n",
    "    ''' Identifying the vertics of hexagon around a virtual site '''\n",
    "    \n",
    "    b = u.atoms[u.atoms.masses == 0].indices\n",
    "    hexagon_indices = []\n",
    "    for i in b:\n",
    "        empty = []\n",
    "        for j in u.atoms.indices:\n",
    "            if (2.55 <= calc_bonds(u.atoms[j].position, u.atoms[i].position) <= 2.57):\n",
    "                empty.append(j)\n",
    "        hexagon_indices.append(empty)\n",
    "    return hexagon_indices"
   ]
  },
  {
   "cell_type": "code",
   "execution_count": 6,
   "id": "a5ad9a94",
   "metadata": {},
   "outputs": [],
   "source": [
    "from MDAnalysis.lib.distances import calc_angles, calc_bonds, calc_dihedrals"
   ]
  },
  {
   "cell_type": "code",
   "execution_count": 7,
   "id": "438183fc",
   "metadata": {},
   "outputs": [],
   "source": [
    "hexagons = hexagon(u)"
   ]
  },
  {
   "cell_type": "code",
   "execution_count": 8,
   "id": "3a1259ac",
   "metadata": {},
   "outputs": [],
   "source": [
    "def get_angles(hexagons):\n",
    "    angles = []\n",
    "    for hex in hexagons:\n",
    "        angle1 = [hex[2], hex[4], hex[0], hex[5]]\n",
    "        angle2 = [hex[4], hex[0], hex[5], hex[1]]\n",
    "        angle3 = [hex[0], hex[5], hex[1], hex[3]]\n",
    "        angles.append(angle1)\n",
    "        angles.append(angle2)\n",
    "        angles.append(angle3)\n",
    "    return angles"
   ]
  },
  {
   "cell_type": "code",
   "execution_count": 26,
   "id": "015ae20f",
   "metadata": {
    "scrolled": true
   },
   "outputs": [],
   "source": [
    "angles = get_angles(hexagons)"
   ]
  },
  {
   "cell_type": "code",
   "execution_count": 27,
   "id": "6462764b",
   "metadata": {},
   "outputs": [
    {
     "data": {
      "text/plain": [
       "[[4, 10, 0, 11],\n",
       " [10, 0, 11, 1],\n",
       " [0, 11, 1, 6],\n",
       " [7, 13, 2, 14],\n",
       " [13, 2, 14, 3],\n",
       " [2, 14, 3, 9],\n",
       " [11, 17, 6, 18],\n",
       " [17, 6, 18, 7],\n",
       " [6, 18, 7, 13],\n",
       " [15, 21, 10, 22],\n",
       " [21, 10, 22, 11],\n",
       " [10, 22, 11, 17],\n",
       " [18, 23, 13, 24],\n",
       " [23, 13, 24, 14],\n",
       " [13, 24, 14, 20]]"
      ]
     },
     "execution_count": 27,
     "metadata": {},
     "output_type": "execute_result"
    }
   ],
   "source": [
    "angles"
   ]
  },
  {
   "cell_type": "code",
   "execution_count": 23,
   "id": "cb70dad6",
   "metadata": {},
   "outputs": [],
   "source": [
    "def get_between_hexagons_angles(hexagons, beads_per_row = 6):\n",
    "    def get_common_side(hexa1, hexa2):\n",
    "        common = list(set(hexa1).intersection(set(hexa2)))\n",
    "        common.sort()\n",
    "        return common\n",
    "    \n",
    "    angles = []\n",
    "    gap_for_above = int(beads_per_row / 2)\n",
    "    for i in range(len(hexagons)):\n",
    "        hexa = hexagons[i]\n",
    "        try:\n",
    "            hexa_after = hexagons[i+2]\n",
    "        except IndexError:\n",
    "            hexa_after = None\n",
    "        try: \n",
    "            hexa_above = hexagons[i+gap_for_above]\n",
    "        except IndexError:\n",
    "            hexa_above = None\n",
    "        \n",
    "        try: \n",
    "            hexa_before = hexagons[i - 1]\n",
    "        except IndexError:\n",
    "            hexa_before = None\n",
    "        \n",
    "        if hexa_after:\n",
    "            side_after = get_common_side(hexa, hexa_after)\n",
    "            if side_after:\n",
    "                idx1 = hexa.index(side_after[0])\n",
    "                idx2 = hexa_after.index(side_after[1])\n",
    "                angle = [hexa[idx1 - 2], side_after[0], side_after[1], hexa_after[idx2 + 2]]\n",
    "                angles.append(angle)\n",
    "            \n",
    "        \n",
    "        if hexa_above: \n",
    "            side_above = get_common_side(hexa, hexa_above)\n",
    "            if side_above: \n",
    "                idx1 = hexa.index(side_above[0])\n",
    "                idx2 = hexa_above.index(side_above[1])\n",
    "                angle = [hexa[idx1 - 4], side_above[0], side_above[1], hexa_above[idx2 + 4]]\n",
    "                angles.append(angle)  \n",
    "                \n",
    "        if hexa_before:\n",
    "            side_before = get_common_side(hexa, hexa_before)\n",
    "            if side_before:\n",
    "                idx1 = hexa_before.index(side_before[0])\n",
    "                idx2 = hexa.index(side_before[1])\n",
    "                angle = [hexa_before[idx1 - 2], side_before[0], side_before[1], hexa[idx2 + 2]]\n",
    "                angles.append(angle)\n",
    "    return angles"
   ]
  },
  {
   "cell_type": "code",
   "execution_count": 24,
   "id": "4f958b0d",
   "metadata": {},
   "outputs": [],
   "source": [
    "other_angles = get_between_hexagons_angles(hexagons)"
   ]
  },
  {
   "cell_type": "code",
   "execution_count": 25,
   "id": "34bf4c62",
   "metadata": {},
   "outputs": [
    {
     "data": {
      "text/plain": [
       "[[1, 6, 11, 17],\n",
       " [0, 10, 11, 22],\n",
       " [2, 13, 14, 24],\n",
       " [7, 13, 18, 23],\n",
       " [2, 7, 13, 18],\n",
       " [6, 11, 17, 22]]"
      ]
     },
     "execution_count": 25,
     "metadata": {},
     "output_type": "execute_result"
    }
   ],
   "source": [
    "other_angles"
   ]
  },
  {
   "cell_type": "code",
   "execution_count": null,
   "id": "6f88aafa",
   "metadata": {},
   "outputs": [],
   "source": []
  }
 ],
 "metadata": {
  "kernelspec": {
   "display_name": "Python 3 (ipykernel)",
   "language": "python",
   "name": "python3"
  },
  "language_info": {
   "codemirror_mode": {
    "name": "ipython",
    "version": 3
   },
   "file_extension": ".py",
   "mimetype": "text/x-python",
   "name": "python",
   "nbconvert_exporter": "python",
   "pygments_lexer": "ipython3",
   "version": "3.11.0"
  }
 },
 "nbformat": 4,
 "nbformat_minor": 5
}
