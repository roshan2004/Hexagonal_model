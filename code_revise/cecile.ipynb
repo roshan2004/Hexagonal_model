{
 "cells": [
  {
   "cell_type": "code",
   "execution_count": 72,
   "id": "bf3c29c3",
   "metadata": {},
   "outputs": [],
   "source": [
    "import MDAnalysis as mda\n",
    "import numpy as np"
   ]
  },
  {
   "cell_type": "code",
   "execution_count": 104,
   "id": "fd2761f2",
   "metadata": {},
   "outputs": [],
   "source": [
    "\n",
    "u = mda.Universe('file.gro')\n",
    "c = np.unique(u.atoms.positions[:,1]) # finding the unique y-coordinate so that we can loop through each row of atoms\n",
    "u.atoms.masses = 36    # Since it's a TC5 bead, we use a mass of 36 for each"
   ]
  },
  {
   "cell_type": "code",
   "execution_count": 105,
   "id": "a51d878f",
   "metadata": {},
   "outputs": [],
   "source": [
    "for j in range(len(c)): # Looping through each row, defined by the y-coordinate\n",
    "    if (j !=0) and (j !=len(c)-1):\n",
    "        if j % 2 !=0:\n",
    "            group = u.atoms[u.atoms.positions[:,1] == c[j]]\n",
    "            gr = np.arange(1, len(group), 3)\n",
    "         \n",
    "            for k in gr:\n",
    "                u.atoms[group[k].index].mass = 0\n",
    "            \n",
    "        else:\n",
    "            group = u.atoms[u.atoms.positions[:,1] == c[j]]\n",
    "            gr = np.arange(2, len(group), 3)\n",
    "            for k in gr:\n",
    "                u.atoms[group[k].index].mass = 0\n",
    "                "
   ]
  },
  {
   "cell_type": "code",
   "execution_count": 106,
   "id": "2eb7c7ef",
   "metadata": {},
   "outputs": [],
   "source": [
    "v = u.atoms[u.atoms.masses !=0]"
   ]
  },
  {
   "cell_type": "code",
   "execution_count": 107,
   "id": "4ab836fb",
   "metadata": {},
   "outputs": [],
   "source": [
    "def hexagon(universe):\n",
    "    \n",
    "    ''' Identifying the vertics of hexagon around a virtual site '''\n",
    "    \n",
    "    b = u.atoms[u.atoms.masses == 0].indices\n",
    "    hexagon_indices = []\n",
    "    for i in b:\n",
    "        empty = []\n",
    "        for j in u.atoms.indices:\n",
    "            if (2.55 <= calc_bonds(u.atoms[j].position, u.atoms[i].position) <= 2.57):\n",
    "                empty.append(j)\n",
    "        hexagon_indices.append(empty)\n",
    "    return hexagon_indices"
   ]
  },
  {
   "cell_type": "code",
   "execution_count": 108,
   "id": "a5ad9a94",
   "metadata": {},
   "outputs": [],
   "source": [
    "from MDAnalysis.lib.distances import calc_angles, calc_bonds, calc_dihedrals"
   ]
  },
  {
   "cell_type": "code",
   "execution_count": 109,
   "id": "438183fc",
   "metadata": {},
   "outputs": [],
   "source": [
    "hexagons = hexagon(u)"
   ]
  },
  {
   "cell_type": "code",
   "execution_count": 110,
   "id": "3a1259ac",
   "metadata": {},
   "outputs": [],
   "source": [
    "def get_angles(hexagons):\n",
    "    angles = []\n",
    "    for hex in hexagons:\n",
    "        angle1 = [hex[2], hex[4], hex[0], hex[5]]\n",
    "        angle2 = [hex[4], hex[0], hex[5], hex[1]]\n",
    "        angle3 = [hex[0], hex[5], hex[1], hex[3]]\n",
    "        angles.append(angle1)\n",
    "        angles.append(angle2)\n",
    "        angles.append(angle3)\n",
    "    return angles"
   ]
  },
  {
   "cell_type": "code",
   "execution_count": 111,
   "id": "015ae20f",
   "metadata": {
    "scrolled": true
   },
   "outputs": [],
   "source": [
    "angles = get_angles(hexagons)"
   ]
  },
  {
   "cell_type": "code",
   "execution_count": 112,
   "id": "6462764b",
   "metadata": {},
   "outputs": [
    {
     "data": {
      "text/plain": [
       "array([[ 6, 15,  0, 16],\n",
       "       [15,  0, 16,  1],\n",
       "       [ 0, 16,  1,  8],\n",
       "       [ 9, 18,  2, 19],\n",
       "       [18,  2, 19,  3],\n",
       "       [ 2, 19,  3, 11],\n",
       "       [12, 21,  4, 22],\n",
       "       [21,  4, 22,  5],\n",
       "       [ 4, 22,  5, 14],\n",
       "       [16, 25,  8, 26],\n",
       "       [25,  8, 26,  9],\n",
       "       [ 8, 26,  9, 18],\n",
       "       [19, 28, 11, 29],\n",
       "       [28, 11, 29, 12],\n",
       "       [11, 29, 12, 21],\n",
       "       [23, 32, 15, 33],\n",
       "       [32, 15, 33, 16],\n",
       "       [15, 33, 16, 25],\n",
       "       [26, 34, 18, 35],\n",
       "       [34, 18, 35, 19],\n",
       "       [18, 35, 19, 28],\n",
       "       [29, 36, 21, 37],\n",
       "       [36, 21, 37, 22],\n",
       "       [21, 37, 22, 31]])"
      ]
     },
     "execution_count": 112,
     "metadata": {},
     "output_type": "execute_result"
    }
   ],
   "source": [
    "angles = np.array(angles)\n",
    "angles"
   ]
  },
  {
   "cell_type": "code",
   "execution_count": 113,
   "id": "cb70dad6",
   "metadata": {},
   "outputs": [],
   "source": [
    "def get_between_hexagons_angles(hexagons, beads_per_row = 9):\n",
    "    def get_common_side(hexa1, hexa2):\n",
    "        common = list(set(hexa1).intersection(set(hexa2)))\n",
    "        common.sort()\n",
    "        return common\n",
    "    \n",
    "    angles = []\n",
    "    gap_for_above = int(beads_per_row / 2)\n",
    "    for i in range(len(hexagons)):\n",
    "        hexa = hexagons[i]\n",
    "        try:\n",
    "            hexa_after = hexagons[i+2]\n",
    "        except IndexError:\n",
    "            hexa_after = None\n",
    "        try: \n",
    "            hexa_above = hexagons[i+gap_for_above]\n",
    "        except IndexError:\n",
    "            hexa_above = None\n",
    "        \n",
    "        try: \n",
    "            hexa_before = hexagons[i - 1]\n",
    "        except IndexError:\n",
    "            hexa_before = None\n",
    "        \n",
    "        if hexa_after:\n",
    "            side_after = get_common_side(hexa, hexa_after)\n",
    "            if side_after:\n",
    "                idx1 = hexa.index(side_after[0])\n",
    "                idx2 = hexa_after.index(side_after[1])\n",
    "                angle = [hexa[idx1 - 2], side_after[0], side_after[1], hexa_after[idx2 + 2]]\n",
    "                angles.append(angle)\n",
    "            \n",
    "        \n",
    "        if hexa_above: \n",
    "            side_above = get_common_side(hexa, hexa_above)\n",
    "            if side_above: \n",
    "                idx1 = hexa.index(side_above[0])\n",
    "                idx2 = hexa_above.index(side_above[1])\n",
    "                angle = [hexa[idx1 - 4], side_above[0], side_above[1], hexa_above[idx2 + 4]]\n",
    "                angles.append(angle)  \n",
    "                \n",
    "        if hexa_before:\n",
    "            side_before = get_common_side(hexa, hexa_before)\n",
    "            if side_before:\n",
    "                idx1 = hexa_before.index(side_before[0])\n",
    "                idx2 = hexa.index(side_before[1])\n",
    "                angle = [hexa_before[idx1 - 2], side_before[0], side_before[1], hexa[idx2 + 2]]\n",
    "                angles.append(angle)\n",
    "    return angles"
   ]
  },
  {
   "cell_type": "code",
   "execution_count": 114,
   "id": "4f958b0d",
   "metadata": {},
   "outputs": [],
   "source": [
    "other_angles = get_between_hexagons_angles(hexagons)"
   ]
  },
  {
   "cell_type": "code",
   "execution_count": 115,
   "id": "34bf4c62",
   "metadata": {},
   "outputs": [
    {
     "data": {
      "text/plain": [
       "[[2, 9, 18, 26], [4, 12, 21, 29], [8, 16, 25, 33], [11, 19, 28, 35]]"
      ]
     },
     "execution_count": 115,
     "metadata": {},
     "output_type": "execute_result"
    }
   ],
   "source": [
    "other_angles"
   ]
  },
  {
   "cell_type": "code",
   "execution_count": 48,
   "id": "6f88aafa",
   "metadata": {},
   "outputs": [
    {
     "data": {
      "text/plain": [
       "[[6, 15, 0, 16],\n",
       " [15, 0, 16, 1],\n",
       " [0, 16, 1, 8],\n",
       " [9, 18, 2, 19],\n",
       " [18, 2, 19, 3],\n",
       " [2, 19, 3, 11],\n",
       " [12, 21, 4, 22],\n",
       " [21, 4, 22, 5],\n",
       " [4, 22, 5, 14],\n",
       " [16, 25, 8, 26],\n",
       " [25, 8, 26, 9],\n",
       " [8, 26, 9, 18],\n",
       " [19, 28, 11, 29],\n",
       " [28, 11, 29, 12],\n",
       " [11, 29, 12, 21],\n",
       " [23, 32, 15, 33],\n",
       " [32, 15, 33, 16],\n",
       " [15, 33, 16, 25],\n",
       " [26, 35, 18, 36],\n",
       " [35, 18, 36, 19],\n",
       " [18, 36, 19, 28],\n",
       " [29, 38, 21, 39],\n",
       " [38, 21, 39, 22],\n",
       " [21, 39, 22, 31],\n",
       " [33, 42, 25, 43],\n",
       " [42, 25, 43, 26],\n",
       " [25, 43, 26, 35],\n",
       " [36, 45, 28, 46],\n",
       " [45, 28, 46, 29],\n",
       " [28, 46, 29, 38],\n",
       " [40, 49, 32, 50],\n",
       " [49, 32, 50, 33],\n",
       " [32, 50, 33, 42],\n",
       " [43, 52, 35, 53],\n",
       " [52, 35, 53, 36],\n",
       " [35, 53, 36, 45],\n",
       " [46, 55, 38, 56],\n",
       " [55, 38, 56, 39],\n",
       " [38, 56, 39, 48],\n",
       " [50, 59, 42, 60],\n",
       " [59, 42, 60, 43],\n",
       " [42, 60, 43, 52],\n",
       " [53, 62, 45, 63],\n",
       " [62, 45, 63, 46],\n",
       " [45, 63, 46, 55],\n",
       " [57, 66, 49, 67],\n",
       " [66, 49, 67, 50],\n",
       " [49, 67, 50, 59],\n",
       " [60, 68, 52, 69],\n",
       " [68, 52, 69, 53],\n",
       " [52, 69, 53, 62],\n",
       " [63, 70, 55, 71],\n",
       " [70, 55, 71, 56],\n",
       " [55, 71, 56, 65]]"
      ]
     },
     "execution_count": 48,
     "metadata": {},
     "output_type": "execute_result"
    }
   ],
   "source": []
  },
  {
   "cell_type": "code",
   "execution_count": 53,
   "id": "5ab371f1",
   "metadata": {},
   "outputs": [
    {
     "data": {
      "text/plain": [
       "[[2, 9, 18, 26],\n",
       " [4, 12, 21, 29],\n",
       " [8, 16, 25, 33],\n",
       " [11, 19, 28, 36],\n",
       " [18, 26, 35, 43],\n",
       " [21, 29, 38, 46],\n",
       " [25, 33, 42, 50],\n",
       " [28, 36, 45, 53],\n",
       " [35, 43, 52, 60],\n",
       " [38, 46, 55, 63],\n",
       " [42, 50, 59, 67],\n",
       " [45, 53, 62, 69]]"
      ]
     },
     "execution_count": 53,
     "metadata": {},
     "output_type": "execute_result"
    }
   ],
   "source": [
    "other_angles"
   ]
  },
  {
   "cell_type": "code",
   "execution_count": 56,
   "id": "2af19c12",
   "metadata": {},
   "outputs": [],
   "source": [
    "agg = np.array(other_angles)"
   ]
  },
  {
   "cell_type": "code",
   "execution_count": 58,
   "id": "db587b12",
   "metadata": {},
   "outputs": [],
   "source": [
    "agg = agg+1"
   ]
  },
  {
   "cell_type": "code",
   "execution_count": 59,
   "id": "e3aedbc9",
   "metadata": {},
   "outputs": [
    {
     "data": {
      "text/plain": [
       "array([[ 3, 10, 19, 27],\n",
       "       [ 5, 13, 22, 30],\n",
       "       [ 9, 17, 26, 34],\n",
       "       [12, 20, 29, 37],\n",
       "       [19, 27, 36, 44],\n",
       "       [22, 30, 39, 47],\n",
       "       [26, 34, 43, 51],\n",
       "       [29, 37, 46, 54],\n",
       "       [36, 44, 53, 61],\n",
       "       [39, 47, 56, 64],\n",
       "       [43, 51, 60, 68],\n",
       "       [46, 54, 63, 70]])"
      ]
     },
     "execution_count": 59,
     "metadata": {},
     "output_type": "execute_result"
    }
   ],
   "source": [
    "agg"
   ]
  },
  {
   "cell_type": "code",
   "execution_count": 64,
   "id": "b4e691f5",
   "metadata": {},
   "outputs": [
    {
     "data": {
      "text/plain": [
       "array([[ 6, 15,  0, 16],\n",
       "       [15,  0, 16,  1],\n",
       "       [ 0, 16,  1,  8],\n",
       "       [ 9, 18,  2, 19],\n",
       "       [18,  2, 19,  3],\n",
       "       [ 2, 19,  3, 11],\n",
       "       [12, 21,  4, 22],\n",
       "       [21,  4, 22,  5],\n",
       "       [ 4, 22,  5, 14],\n",
       "       [16, 25,  8, 26],\n",
       "       [25,  8, 26,  9],\n",
       "       [ 8, 26,  9, 18],\n",
       "       [19, 28, 11, 29],\n",
       "       [28, 11, 29, 12],\n",
       "       [11, 29, 12, 21],\n",
       "       [23, 32, 15, 33],\n",
       "       [32, 15, 33, 16],\n",
       "       [15, 33, 16, 25],\n",
       "       [26, 35, 18, 36],\n",
       "       [35, 18, 36, 19],\n",
       "       [18, 36, 19, 28],\n",
       "       [29, 38, 21, 39],\n",
       "       [38, 21, 39, 22],\n",
       "       [21, 39, 22, 31],\n",
       "       [33, 42, 25, 43],\n",
       "       [42, 25, 43, 26],\n",
       "       [25, 43, 26, 35],\n",
       "       [36, 45, 28, 46],\n",
       "       [45, 28, 46, 29],\n",
       "       [28, 46, 29, 38],\n",
       "       [40, 49, 32, 50],\n",
       "       [49, 32, 50, 33],\n",
       "       [32, 50, 33, 42],\n",
       "       [43, 52, 35, 53],\n",
       "       [52, 35, 53, 36],\n",
       "       [35, 53, 36, 45],\n",
       "       [46, 55, 38, 56],\n",
       "       [55, 38, 56, 39],\n",
       "       [38, 56, 39, 48],\n",
       "       [50, 59, 42, 60],\n",
       "       [59, 42, 60, 43],\n",
       "       [42, 60, 43, 52],\n",
       "       [53, 62, 45, 63],\n",
       "       [62, 45, 63, 46],\n",
       "       [45, 63, 46, 55],\n",
       "       [57, 66, 49, 67],\n",
       "       [66, 49, 67, 50],\n",
       "       [49, 67, 50, 59],\n",
       "       [60, 68, 52, 69],\n",
       "       [68, 52, 69, 53],\n",
       "       [52, 69, 53, 62],\n",
       "       [63, 70, 55, 71],\n",
       "       [70, 55, 71, 56],\n",
       "       [55, 71, 56, 65]])"
      ]
     },
     "execution_count": 64,
     "metadata": {},
     "output_type": "execute_result"
    }
   ],
   "source": [
    "angles"
   ]
  },
  {
   "cell_type": "code",
   "execution_count": 66,
   "id": "9abd61e3",
   "metadata": {},
   "outputs": [
    {
     "data": {
      "text/plain": [
       "numpy.ndarray"
      ]
     },
     "execution_count": 66,
     "metadata": {},
     "output_type": "execute_result"
    }
   ],
   "source": [
    "type(angles)"
   ]
  },
  {
   "cell_type": "code",
   "execution_count": 68,
   "id": "ba2e9b0c",
   "metadata": {},
   "outputs": [],
   "source": [
    "other_angles = np.array(other_angles) + 1"
   ]
  },
  {
   "cell_type": "code",
   "execution_count": 69,
   "id": "d4a9745c",
   "metadata": {},
   "outputs": [
    {
     "data": {
      "text/plain": [
       "array([[ 3, 10, 19, 27],\n",
       "       [ 5, 13, 22, 30],\n",
       "       [ 9, 17, 26, 34],\n",
       "       [12, 20, 29, 37],\n",
       "       [19, 27, 36, 44],\n",
       "       [22, 30, 39, 47],\n",
       "       [26, 34, 43, 51],\n",
       "       [29, 37, 46, 54],\n",
       "       [36, 44, 53, 61],\n",
       "       [39, 47, 56, 64],\n",
       "       [43, 51, 60, 68],\n",
       "       [46, 54, 63, 70]])"
      ]
     },
     "execution_count": 69,
     "metadata": {},
     "output_type": "execute_result"
    }
   ],
   "source": [
    "other_angles"
   ]
  },
  {
   "cell_type": "code",
   "execution_count": 70,
   "id": "d122eea4",
   "metadata": {},
   "outputs": [
    {
     "data": {
      "text/plain": [
       "array([[ 6, 15,  0, 16],\n",
       "       [15,  0, 16,  1],\n",
       "       [ 0, 16,  1,  8],\n",
       "       [ 9, 18,  2, 19],\n",
       "       [18,  2, 19,  3],\n",
       "       [ 2, 19,  3, 11],\n",
       "       [12, 21,  4, 22],\n",
       "       [21,  4, 22,  5],\n",
       "       [ 4, 22,  5, 14],\n",
       "       [16, 25,  8, 26],\n",
       "       [25,  8, 26,  9],\n",
       "       [ 8, 26,  9, 18],\n",
       "       [19, 28, 11, 29],\n",
       "       [28, 11, 29, 12],\n",
       "       [11, 29, 12, 21],\n",
       "       [23, 32, 15, 33],\n",
       "       [32, 15, 33, 16],\n",
       "       [15, 33, 16, 25],\n",
       "       [26, 35, 18, 36],\n",
       "       [35, 18, 36, 19],\n",
       "       [18, 36, 19, 28],\n",
       "       [29, 38, 21, 39],\n",
       "       [38, 21, 39, 22],\n",
       "       [21, 39, 22, 31],\n",
       "       [33, 42, 25, 43],\n",
       "       [42, 25, 43, 26],\n",
       "       [25, 43, 26, 35],\n",
       "       [36, 45, 28, 46],\n",
       "       [45, 28, 46, 29],\n",
       "       [28, 46, 29, 38],\n",
       "       [40, 49, 32, 50],\n",
       "       [49, 32, 50, 33],\n",
       "       [32, 50, 33, 42],\n",
       "       [43, 52, 35, 53],\n",
       "       [52, 35, 53, 36],\n",
       "       [35, 53, 36, 45],\n",
       "       [46, 55, 38, 56],\n",
       "       [55, 38, 56, 39],\n",
       "       [38, 56, 39, 48],\n",
       "       [50, 59, 42, 60],\n",
       "       [59, 42, 60, 43],\n",
       "       [42, 60, 43, 52],\n",
       "       [53, 62, 45, 63],\n",
       "       [62, 45, 63, 46],\n",
       "       [45, 63, 46, 55],\n",
       "       [57, 66, 49, 67],\n",
       "       [66, 49, 67, 50],\n",
       "       [49, 67, 50, 59],\n",
       "       [60, 68, 52, 69],\n",
       "       [68, 52, 69, 53],\n",
       "       [52, 69, 53, 62],\n",
       "       [63, 70, 55, 71],\n",
       "       [70, 55, 71, 56],\n",
       "       [55, 71, 56, 65],\n",
       "       [ 3, 10, 19, 27],\n",
       "       [ 5, 13, 22, 30],\n",
       "       [ 9, 17, 26, 34],\n",
       "       [12, 20, 29, 37],\n",
       "       [19, 27, 36, 44],\n",
       "       [22, 30, 39, 47],\n",
       "       [26, 34, 43, 51],\n",
       "       [29, 37, 46, 54],\n",
       "       [36, 44, 53, 61],\n",
       "       [39, 47, 56, 64],\n",
       "       [43, 51, 60, 68],\n",
       "       [46, 54, 63, 70]])"
      ]
     },
     "execution_count": 70,
     "metadata": {},
     "output_type": "execute_result"
    }
   ],
   "source": [
    "np.vstack((angles, other_angles))"
   ]
  },
  {
   "cell_type": "code",
   "execution_count": 71,
   "id": "3514ad7d",
   "metadata": {},
   "outputs": [
    {
     "data": {
      "text/plain": [
       "array([[ 6, 15,  0, 16],\n",
       "       [15,  0, 16,  1],\n",
       "       [ 0, 16,  1,  8],\n",
       "       [ 9, 18,  2, 19],\n",
       "       [18,  2, 19,  3],\n",
       "       [ 2, 19,  3, 11],\n",
       "       [12, 21,  4, 22],\n",
       "       [21,  4, 22,  5],\n",
       "       [ 4, 22,  5, 14],\n",
       "       [16, 25,  8, 26],\n",
       "       [25,  8, 26,  9],\n",
       "       [ 8, 26,  9, 18],\n",
       "       [19, 28, 11, 29],\n",
       "       [28, 11, 29, 12],\n",
       "       [11, 29, 12, 21],\n",
       "       [23, 32, 15, 33],\n",
       "       [32, 15, 33, 16],\n",
       "       [15, 33, 16, 25],\n",
       "       [26, 35, 18, 36],\n",
       "       [35, 18, 36, 19],\n",
       "       [18, 36, 19, 28],\n",
       "       [29, 38, 21, 39],\n",
       "       [38, 21, 39, 22],\n",
       "       [21, 39, 22, 31],\n",
       "       [33, 42, 25, 43],\n",
       "       [42, 25, 43, 26],\n",
       "       [25, 43, 26, 35],\n",
       "       [36, 45, 28, 46],\n",
       "       [45, 28, 46, 29],\n",
       "       [28, 46, 29, 38],\n",
       "       [40, 49, 32, 50],\n",
       "       [49, 32, 50, 33],\n",
       "       [32, 50, 33, 42],\n",
       "       [43, 52, 35, 53],\n",
       "       [52, 35, 53, 36],\n",
       "       [35, 53, 36, 45],\n",
       "       [46, 55, 38, 56],\n",
       "       [55, 38, 56, 39],\n",
       "       [38, 56, 39, 48],\n",
       "       [50, 59, 42, 60],\n",
       "       [59, 42, 60, 43],\n",
       "       [42, 60, 43, 52],\n",
       "       [53, 62, 45, 63],\n",
       "       [62, 45, 63, 46],\n",
       "       [45, 63, 46, 55],\n",
       "       [57, 66, 49, 67],\n",
       "       [66, 49, 67, 50],\n",
       "       [49, 67, 50, 59],\n",
       "       [60, 68, 52, 69],\n",
       "       [68, 52, 69, 53],\n",
       "       [52, 69, 53, 62],\n",
       "       [63, 70, 55, 71],\n",
       "       [70, 55, 71, 56],\n",
       "       [55, 71, 56, 65]])"
      ]
     },
     "execution_count": 71,
     "metadata": {},
     "output_type": "execute_result"
    }
   ],
   "source": [
    "angles"
   ]
  },
  {
   "cell_type": "code",
   "execution_count": 116,
   "id": "cfb159d8",
   "metadata": {},
   "outputs": [
    {
     "data": {
      "text/plain": [
       "array([[ 6, 15,  0, 16],\n",
       "       [15,  0, 16,  1],\n",
       "       [ 0, 16,  1,  8],\n",
       "       [ 9, 18,  2, 19],\n",
       "       [18,  2, 19,  3],\n",
       "       [ 2, 19,  3, 11],\n",
       "       [12, 21,  4, 22],\n",
       "       [21,  4, 22,  5],\n",
       "       [ 4, 22,  5, 14],\n",
       "       [16, 25,  8, 26],\n",
       "       [25,  8, 26,  9],\n",
       "       [ 8, 26,  9, 18],\n",
       "       [19, 28, 11, 29],\n",
       "       [28, 11, 29, 12],\n",
       "       [11, 29, 12, 21],\n",
       "       [23, 32, 15, 33],\n",
       "       [32, 15, 33, 16],\n",
       "       [15, 33, 16, 25],\n",
       "       [26, 34, 18, 35],\n",
       "       [34, 18, 35, 19],\n",
       "       [18, 35, 19, 28],\n",
       "       [29, 36, 21, 37],\n",
       "       [36, 21, 37, 22],\n",
       "       [21, 37, 22, 31]])"
      ]
     },
     "execution_count": 116,
     "metadata": {},
     "output_type": "execute_result"
    }
   ],
   "source": [
    "angles"
   ]
  },
  {
   "cell_type": "code",
   "execution_count": 117,
   "id": "7924a210",
   "metadata": {},
   "outputs": [
    {
     "data": {
      "text/plain": [
       "[[2, 9, 18, 26], [4, 12, 21, 29], [8, 16, 25, 33], [11, 19, 28, 35]]"
      ]
     },
     "execution_count": 117,
     "metadata": {},
     "output_type": "execute_result"
    }
   ],
   "source": [
    "other_angles"
   ]
  },
  {
   "cell_type": "code",
   "execution_count": 118,
   "id": "4a5c5a96",
   "metadata": {},
   "outputs": [
    {
     "data": {
      "text/plain": [
       "array([[ 6, 15,  0, 16],\n",
       "       [15,  0, 16,  1],\n",
       "       [ 0, 16,  1,  8],\n",
       "       [ 9, 18,  2, 19],\n",
       "       [18,  2, 19,  3],\n",
       "       [ 2, 19,  3, 11],\n",
       "       [12, 21,  4, 22],\n",
       "       [21,  4, 22,  5],\n",
       "       [ 4, 22,  5, 14],\n",
       "       [16, 25,  8, 26],\n",
       "       [25,  8, 26,  9],\n",
       "       [ 8, 26,  9, 18],\n",
       "       [19, 28, 11, 29],\n",
       "       [28, 11, 29, 12],\n",
       "       [11, 29, 12, 21],\n",
       "       [23, 32, 15, 33],\n",
       "       [32, 15, 33, 16],\n",
       "       [15, 33, 16, 25],\n",
       "       [26, 34, 18, 35],\n",
       "       [34, 18, 35, 19],\n",
       "       [18, 35, 19, 28],\n",
       "       [29, 36, 21, 37],\n",
       "       [36, 21, 37, 22],\n",
       "       [21, 37, 22, 31],\n",
       "       [ 2,  9, 18, 26],\n",
       "       [ 4, 12, 21, 29],\n",
       "       [ 8, 16, 25, 33],\n",
       "       [11, 19, 28, 35]])"
      ]
     },
     "execution_count": 118,
     "metadata": {},
     "output_type": "execute_result"
    }
   ],
   "source": [
    "np.vstack((angles, other_angles))"
   ]
  },
  {
   "cell_type": "code",
   "execution_count": 119,
   "id": "b309696b",
   "metadata": {},
   "outputs": [
    {
     "name": "stdout",
     "output_type": "stream",
     "text": [
      "  6       15      0       16     180     400\n",
      "  15      0       16      1      180     400\n",
      "  0       16      1       8      180     400\n",
      "  9       18      2       19     180     400\n",
      "  18      2       19      3      180     400\n",
      "  2       19      3       11     180     400\n",
      "  12      21      4       22     180     400\n",
      "  21      4       22      5      180     400\n",
      "  4       22      5       14     180     400\n",
      "  16      25      8       26     180     400\n",
      "  25      8       26      9      180     400\n",
      "  8       26      9       18     180     400\n",
      "  19      28      11      29     180     400\n",
      "  28      11      29      12     180     400\n",
      "  11      29      12      21     180     400\n",
      "  23      32      15      33     180     400\n",
      "  32      15      33      16     180     400\n",
      "  15      33      16      25     180     400\n",
      "  26      34      18      35     180     400\n",
      "  34      18      35      19     180     400\n",
      "  18      35      19      28     180     400\n",
      "  29      36      21      37     180     400\n",
      "  36      21      37      22     180     400\n",
      "  21      37      22      31     180     400\n",
      "  2       9       18      26     180     400\n",
      "  4       12      21      29     180     400\n",
      "  8       16      25      33     180     400\n",
      "  11      19      28      35     180     400\n"
     ]
    }
   ],
   "source": [
    "for i in np.vstack((angles, other_angles)):\n",
    "    print(f\"  {i[0]:<3}     {i[1]:<3}     {i[2]:<3}     {i[3]:<3}    180     400\")\n",
    "    "
   ]
  },
  {
   "cell_type": "code",
   "execution_count": null,
   "id": "ab418f86",
   "metadata": {},
   "outputs": [],
   "source": []
  }
 ],
 "metadata": {
  "kernelspec": {
   "display_name": "Python 3 (ipykernel)",
   "language": "python",
   "name": "python3"
  },
  "language_info": {
   "codemirror_mode": {
    "name": "ipython",
    "version": 3
   },
   "file_extension": ".py",
   "mimetype": "text/x-python",
   "name": "python",
   "nbconvert_exporter": "python",
   "pygments_lexer": "ipython3",
   "version": "3.9.7"
  }
 },
 "nbformat": 4,
 "nbformat_minor": 5
}
