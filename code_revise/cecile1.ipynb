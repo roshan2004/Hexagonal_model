{
 "cells": [
  {
   "cell_type": "code",
   "execution_count": 31,
   "id": "bf3c29c3",
   "metadata": {},
   "outputs": [],
   "source": [
    "import MDAnalysis as mda\n",
    "import numpy as np"
   ]
  },
  {
   "cell_type": "code",
   "execution_count": 32,
   "id": "fd2761f2",
   "metadata": {},
   "outputs": [],
   "source": [
    "\n",
    "u = mda.Universe('cecile.gro')\n",
    "c = np.unique(u.atoms.positions[:,1]) # finding the unique y-coordinate so that we can loop through each row of atoms\n",
    "u.atoms.masses = 36    # Since it's a TC5 bead, we use a mass of 36 for each"
   ]
  },
  {
   "cell_type": "code",
   "execution_count": 33,
   "id": "a51d878f",
   "metadata": {},
   "outputs": [],
   "source": [
    "for j in range(len(c)): # Looping through each row, defined by the y-coordinate\n",
    "    if (j !=0) and (j !=len(c)-1):\n",
    "        if j % 2 !=0:\n",
    "            group = u.atoms[u.atoms.positions[:,1] == c[j]]\n",
    "            gr = np.arange(1, len(group), 3)\n",
    "         \n",
    "            for k in gr:\n",
    "                u.atoms[group[k].index].mass = 0\n",
    "            \n",
    "        else:\n",
    "            group = u.atoms[u.atoms.positions[:,1] == c[j]]\n",
    "            gr = np.arange(2, len(group), 3)\n",
    "            for k in gr:\n",
    "                u.atoms[group[k].index].mass = 0\n",
    "                "
   ]
  },
  {
   "cell_type": "code",
   "execution_count": 34,
   "id": "2eb7c7ef",
   "metadata": {},
   "outputs": [],
   "source": [
    "v = u.atoms[u.atoms.masses !=0]"
   ]
  },
  {
   "cell_type": "code",
   "execution_count": 35,
   "id": "4ab836fb",
   "metadata": {},
   "outputs": [],
   "source": [
    "def hexagon(universe):\n",
    "    \n",
    "    ''' Identifying the vertics of hexagon around a virtual site '''\n",
    "    \n",
    "    b = u.atoms[u.atoms.masses == 0].indices\n",
    "    hexagon_indices = []\n",
    "    for i in b:\n",
    "        empty = []\n",
    "        for j in u.atoms.indices:\n",
    "            if (2.55 <= calc_bonds(u.atoms[j].position, u.atoms[i].position) <= 2.57):\n",
    "                empty.append(j)\n",
    "        hexagon_indices.append(empty)\n",
    "    return hexagon_indices"
   ]
  },
  {
   "cell_type": "code",
   "execution_count": 36,
   "id": "a5ad9a94",
   "metadata": {},
   "outputs": [],
   "source": [
    "from MDAnalysis.lib.distances import calc_angles, calc_bonds, calc_dihedrals"
   ]
  },
  {
   "cell_type": "code",
   "execution_count": 37,
   "id": "438183fc",
   "metadata": {},
   "outputs": [],
   "source": [
    "hexagons = hexagon(u)"
   ]
  },
  {
   "cell_type": "code",
   "execution_count": 38,
   "id": "95408217",
   "metadata": {},
   "outputs": [
    {
     "name": "stdout",
     "output_type": "stream",
     "text": [
      "[[0, 1, 4, 6, 10, 11], [2, 3, 7, 9, 13, 14], [6, 7, 11, 13, 17, 18], [10, 11, 15, 17, 21, 22], [13, 14, 18, 20, 23, 24]]\n"
     ]
    }
   ],
   "source": [
    "print(hexagons)"
   ]
  },
  {
   "cell_type": "code",
   "execution_count": 39,
   "id": "3a1259ac",
   "metadata": {},
   "outputs": [],
   "source": [
    "def get_angles(hexagons):\n",
    "    angles = []\n",
    "    for hex in hexagons:\n",
    "        angle1 = [hex[2], hex[4], hex[0], hex[5]]\n",
    "        angle2 = [hex[4], hex[0], hex[5], hex[1]]\n",
    "        angle3 = [hex[0], hex[5], hex[1], hex[3]]\n",
    "        angles.append(angle1)\n",
    "        angles.append(angle2)\n",
    "        angles.append(angle3)\n",
    "    return angles"
   ]
  },
  {
   "cell_type": "code",
   "execution_count": 40,
   "id": "015ae20f",
   "metadata": {
    "scrolled": true
   },
   "outputs": [],
   "source": [
    "angles = get_angles(hexagons)"
   ]
  },
  {
   "cell_type": "code",
   "execution_count": 41,
   "id": "ca8c308d",
   "metadata": {},
   "outputs": [
    {
     "data": {
      "text/plain": [
       "[[4, 10, 0, 11],\n",
       " [10, 0, 11, 1],\n",
       " [0, 11, 1, 6],\n",
       " [7, 13, 2, 14],\n",
       " [13, 2, 14, 3],\n",
       " [2, 14, 3, 9],\n",
       " [11, 17, 6, 18],\n",
       " [17, 6, 18, 7],\n",
       " [6, 18, 7, 13],\n",
       " [15, 21, 10, 22],\n",
       " [21, 10, 22, 11],\n",
       " [10, 22, 11, 17],\n",
       " [18, 23, 13, 24],\n",
       " [23, 13, 24, 14],\n",
       " [13, 24, 14, 20]]"
      ]
     },
     "execution_count": 41,
     "metadata": {},
     "output_type": "execute_result"
    }
   ],
   "source": [
    "angles"
   ]
  },
  {
   "cell_type": "code",
   "execution_count": 42,
   "id": "cb70dad6",
   "metadata": {},
   "outputs": [],
   "source": [
    "def get_between_hexagons_angles(hexagons, beads_per_row):\n",
    "    def get_common_side(hexa1, hexa2):\n",
    "        common = list(set(hexa1).intersection(set(hexa2)))\n",
    "        common.sort()\n",
    "        return common\n",
    "    \n",
    "    angles = []\n",
    "    gap_for_above = int(beads_per_row / 2)\n",
    "    \n",
    "    for i in range(len(hexagons)):\n",
    "        hexa = hexagons[i]\n",
    "        try:\n",
    "            hexa_after = hexagons[i+2]\n",
    "        except IndexError:\n",
    "            hexa_after = None\n",
    "        try: \n",
    "            hexa_above = hexagons[i+gap_for_above]\n",
    "        except IndexError:\n",
    "            hexa_above = None\n",
    "        \n",
    "        try: \n",
    "            hexa_before = hexagons[i - 1]\n",
    "        except IndexError:\n",
    "            hexa_before = None\n",
    "            \n",
    "        \n",
    "        if hexa_above == hexa_before: \n",
    "            hexa_before = None\n",
    "        \n",
    "        if hexa_after:\n",
    "            side_after = get_common_side(hexa, hexa_after)\n",
    "            if side_after:\n",
    "                idx1 = hexa.index(side_after[0])\n",
    "                idx2 = hexa_after.index(side_after[1])\n",
    "                angle = [hexa[idx1 - 2], side_after[0], side_after[1], hexa_after[idx2 + 2]]\n",
    "                angles.append(angle)\n",
    "            \n",
    "        \n",
    "        if hexa_above: \n",
    "            side_above = get_common_side(hexa, hexa_above)\n",
    "            if side_above: \n",
    "                idx1 = hexa.index(side_above[0])\n",
    "                idx2 = hexa_above.index(side_above[1])\n",
    "                angle = [hexa[idx1 - 4], side_above[0], side_above[1], hexa_above[idx2 + 4]]\n",
    "                angles.append(angle)  \n",
    "                \n",
    "        if hexa_before:\n",
    "            side_before = get_common_side(hexa, hexa_before)\n",
    "            if side_before:\n",
    "                idx1 = hexa_before.index(side_before[0])\n",
    "                idx2 = hexa.index(side_before[1])\n",
    "                angle = [hexa_before[idx1 - 2], side_before[0], side_before[1], hexa[idx2 + 2]]\n",
    "                angles.append(angle)\n",
    "    return angles"
   ]
  },
  {
   "cell_type": "code",
   "execution_count": 44,
   "id": "3d7c9f57",
   "metadata": {},
   "outputs": [],
   "source": [
    "other_angles = get_between_hexagons_angles(hexagons, 6)"
   ]
  },
  {
   "cell_type": "code",
   "execution_count": 45,
   "id": "94e413d8",
   "metadata": {},
   "outputs": [
    {
     "data": {
      "text/plain": [
       "[[1, 6, 11, 17],\n",
       " [0, 10, 11, 22],\n",
       " [2, 13, 14, 24],\n",
       " [7, 13, 18, 23],\n",
       " [2, 7, 13, 18],\n",
       " [6, 11, 17, 22]]"
      ]
     },
     "execution_count": 45,
     "metadata": {},
     "output_type": "execute_result"
    }
   ],
   "source": [
    "other_angles"
   ]
  },
  {
   "cell_type": "code",
   "execution_count": 46,
   "id": "728b4efd",
   "metadata": {},
   "outputs": [
    {
     "data": {
      "text/plain": [
       "[[4, 10, 0, 11],\n",
       " [10, 0, 11, 1],\n",
       " [0, 11, 1, 6],\n",
       " [7, 13, 2, 14],\n",
       " [13, 2, 14, 3],\n",
       " [2, 14, 3, 9],\n",
       " [11, 17, 6, 18],\n",
       " [17, 6, 18, 7],\n",
       " [6, 18, 7, 13],\n",
       " [15, 21, 10, 22],\n",
       " [21, 10, 22, 11],\n",
       " [10, 22, 11, 17],\n",
       " [18, 23, 13, 24],\n",
       " [23, 13, 24, 14],\n",
       " [13, 24, 14, 20]]"
      ]
     },
     "execution_count": 46,
     "metadata": {},
     "output_type": "execute_result"
    }
   ],
   "source": [
    "angles"
   ]
  },
  {
   "cell_type": "code",
   "execution_count": 47,
   "id": "d2fdc0cd",
   "metadata": {},
   "outputs": [],
   "source": [
    "import numpy as np"
   ]
  },
  {
   "cell_type": "code",
   "execution_count": 48,
   "id": "3ec132ca",
   "metadata": {},
   "outputs": [],
   "source": [
    "collect = np.vstack((angles, other_angles))"
   ]
  },
  {
   "cell_type": "code",
   "execution_count": 49,
   "id": "fddb2008",
   "metadata": {},
   "outputs": [
    {
     "data": {
      "text/plain": [
       "array([[ 4, 10,  0, 11],\n",
       "       [10,  0, 11,  1],\n",
       "       [ 0, 11,  1,  6],\n",
       "       [ 7, 13,  2, 14],\n",
       "       [13,  2, 14,  3],\n",
       "       [ 2, 14,  3,  9],\n",
       "       [11, 17,  6, 18],\n",
       "       [17,  6, 18,  7],\n",
       "       [ 6, 18,  7, 13],\n",
       "       [15, 21, 10, 22],\n",
       "       [21, 10, 22, 11],\n",
       "       [10, 22, 11, 17],\n",
       "       [18, 23, 13, 24],\n",
       "       [23, 13, 24, 14],\n",
       "       [13, 24, 14, 20],\n",
       "       [ 1,  6, 11, 17],\n",
       "       [ 0, 10, 11, 22],\n",
       "       [ 2, 13, 14, 24],\n",
       "       [ 7, 13, 18, 23],\n",
       "       [ 2,  7, 13, 18],\n",
       "       [ 6, 11, 17, 22]])"
      ]
     },
     "execution_count": 49,
     "metadata": {},
     "output_type": "execute_result"
    }
   ],
   "source": [
    "collect"
   ]
  },
  {
   "cell_type": "code",
   "execution_count": 50,
   "id": "6103ada4",
   "metadata": {},
   "outputs": [],
   "source": [
    "collect = collect + 1"
   ]
  },
  {
   "cell_type": "code",
   "execution_count": 51,
   "id": "b0e34bd6",
   "metadata": {},
   "outputs": [
    {
     "data": {
      "text/plain": [
       "array([[ 5, 11,  1, 12],\n",
       "       [11,  1, 12,  2],\n",
       "       [ 1, 12,  2,  7],\n",
       "       [ 8, 14,  3, 15],\n",
       "       [14,  3, 15,  4],\n",
       "       [ 3, 15,  4, 10],\n",
       "       [12, 18,  7, 19],\n",
       "       [18,  7, 19,  8],\n",
       "       [ 7, 19,  8, 14],\n",
       "       [16, 22, 11, 23],\n",
       "       [22, 11, 23, 12],\n",
       "       [11, 23, 12, 18],\n",
       "       [19, 24, 14, 25],\n",
       "       [24, 14, 25, 15],\n",
       "       [14, 25, 15, 21],\n",
       "       [ 2,  7, 12, 18],\n",
       "       [ 1, 11, 12, 23],\n",
       "       [ 3, 14, 15, 25],\n",
       "       [ 8, 14, 19, 24],\n",
       "       [ 3,  8, 14, 19],\n",
       "       [ 7, 12, 18, 23]])"
      ]
     },
     "execution_count": 51,
     "metadata": {},
     "output_type": "execute_result"
    }
   ],
   "source": [
    "collect"
   ]
  },
  {
   "cell_type": "code",
   "execution_count": null,
   "id": "08694be3",
   "metadata": {},
   "outputs": [],
   "source": []
  }
 ],
 "metadata": {
  "kernelspec": {
   "display_name": "Python 3 (ipykernel)",
   "language": "python",
   "name": "python3"
  },
  "language_info": {
   "codemirror_mode": {
    "name": "ipython",
    "version": 3
   },
   "file_extension": ".py",
   "mimetype": "text/x-python",
   "name": "python",
   "nbconvert_exporter": "python",
   "pygments_lexer": "ipython3",
   "version": "3.9.7"
  }
 },
 "nbformat": 4,
 "nbformat_minor": 5
}
