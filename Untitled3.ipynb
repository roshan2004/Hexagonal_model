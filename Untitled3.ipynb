{
 "cells": [
  {
   "cell_type": "code",
   "execution_count": 7,
   "id": "69eababd",
   "metadata": {},
   "outputs": [],
   "source": [
    "class Person:\n",
    "    def __init__(self, name, age):\n",
    "        self.name = name\n",
    "        self.age = age\n",
    "        \n",
    "    def print_info(self):\n",
    "        print(f\"{self.name} is {self.age} years old.\")\n",
    "class Teacher(Person): #Name of the parent class in the definition of the child class\n",
    "    def __init__(self, name, age, subject):\n",
    "        Person.__init__(self, name, age)\n",
    "        self.subject = subject\n",
    "        \n",
    "         #Constructor of the parent class called within the constructor of the child class"
   ]
  },
  {
   "cell_type": "code",
   "execution_count": 8,
   "id": "7e33810a",
   "metadata": {},
   "outputs": [],
   "source": [
    "MyTeacher = Teacher('Roshan Shrestha', 35, 'Physics')"
   ]
  },
  {
   "cell_type": "code",
   "execution_count": 9,
   "id": "ec97ba51",
   "metadata": {},
   "outputs": [
    {
     "data": {
      "text/plain": [
       "'Roshan Shrestha'"
      ]
     },
     "execution_count": 9,
     "metadata": {},
     "output_type": "execute_result"
    }
   ],
   "source": [
    "MyTeacher.name"
   ]
  },
  {
   "cell_type": "code",
   "execution_count": 10,
   "id": "4e02cd7a",
   "metadata": {},
   "outputs": [
    {
     "data": {
      "text/plain": [
       "35"
      ]
     },
     "execution_count": 10,
     "metadata": {},
     "output_type": "execute_result"
    }
   ],
   "source": [
    "MyTeacher.age"
   ]
  },
  {
   "cell_type": "code",
   "execution_count": 11,
   "id": "c6f0ce4c",
   "metadata": {},
   "outputs": [
    {
     "data": {
      "text/plain": [
       "'Physics'"
      ]
     },
     "execution_count": 11,
     "metadata": {},
     "output_type": "execute_result"
    }
   ],
   "source": [
    "MyTeacher.subject"
   ]
  },
  {
   "cell_type": "code",
   "execution_count": 12,
   "id": "3b9c2e2a",
   "metadata": {},
   "outputs": [
    {
     "name": "stdout",
     "output_type": "stream",
     "text": [
      "Roshan Shrestha is 35 years old.\n"
     ]
    }
   ],
   "source": [
    "MyTeacher.print_info()"
   ]
  },
  {
   "cell_type": "code",
   "execution_count": 13,
   "id": "b97d28b0",
   "metadata": {},
   "outputs": [],
   "source": [
    "class Animal:\n",
    "    def eat(self):\n",
    "        print(\"Nom Nom Nom...eating food!\")\n",
    "        "
   ]
  },
  {
   "cell_type": "code",
   "execution_count": 14,
   "id": "42efc608",
   "metadata": {},
   "outputs": [],
   "source": [
    "class Dog(Animal):\n",
    "    def bark(self):\n",
    "        print('Bark!')\n",
    "class Cat(Animal):\n",
    "    def meow(self):\n",
    "        print('Meow!')"
   ]
  },
  {
   "cell_type": "code",
   "execution_count": 15,
   "id": "3935c50d",
   "metadata": {},
   "outputs": [],
   "source": [
    "fluffy = Dog()\n",
    "zoomie = Cat()"
   ]
  },
  {
   "cell_type": "code",
   "execution_count": 17,
   "id": "bc74fe8f",
   "metadata": {},
   "outputs": [
    {
     "name": "stdout",
     "output_type": "stream",
     "text": [
      "Nom Nom Nom...eating food!\n"
     ]
    }
   ],
   "source": [
    "fluffy.eat()"
   ]
  },
  {
   "cell_type": "code",
   "execution_count": 18,
   "id": "13fd58a2",
   "metadata": {},
   "outputs": [
    {
     "name": "stdout",
     "output_type": "stream",
     "text": [
      "Nom Nom Nom...eating food!\n"
     ]
    }
   ],
   "source": [
    "zoomie.eat()"
   ]
  },
  {
   "cell_type": "code",
   "execution_count": 19,
   "id": "8fbd4aac",
   "metadata": {},
   "outputs": [
    {
     "name": "stdout",
     "output_type": "stream",
     "text": [
      "Bark!\n"
     ]
    }
   ],
   "source": [
    "fluffy.bark()"
   ]
  },
  {
   "cell_type": "code",
   "execution_count": 20,
   "id": "18851530",
   "metadata": {},
   "outputs": [
    {
     "name": "stdout",
     "output_type": "stream",
     "text": [
      "Meow!\n"
     ]
    }
   ],
   "source": [
    "zoomie.meow()"
   ]
  },
  {
   "cell_type": "code",
   "execution_count": 21,
   "id": "af77a786",
   "metadata": {},
   "outputs": [],
   "source": [
    "#Overriding methods"
   ]
  },
  {
   "cell_type": "code",
   "execution_count": 25,
   "id": "fd0a16f8",
   "metadata": {},
   "outputs": [],
   "source": [
    "class Animal:\n",
    "    def __init__(self, name):\n",
    "        self.name = name\n",
    "        \n",
    "    def make_noise(self):\n",
    "        print(f\"{self.name} says Grrrr\")\n",
    "        \n",
    "class Cat(Animal):\n",
    "    def make_noise(self):\n",
    "        print(f\"{self.name} says Meow\")\n",
    "        "
   ]
  },
  {
   "cell_type": "code",
   "execution_count": 23,
   "id": "bd328031",
   "metadata": {},
   "outputs": [],
   "source": [
    "pet1 = Animal(\"Rex\")"
   ]
  },
  {
   "cell_type": "code",
   "execution_count": 24,
   "id": "b05c7679",
   "metadata": {},
   "outputs": [
    {
     "name": "stdout",
     "output_type": "stream",
     "text": [
      "Rex says Grrrr\n"
     ]
    }
   ],
   "source": [
    "pet1.make_noise()"
   ]
  },
  {
   "cell_type": "code",
   "execution_count": 26,
   "id": "2accaefb",
   "metadata": {},
   "outputs": [],
   "source": [
    "pet2 = Cat('Maisy')"
   ]
  },
  {
   "cell_type": "code",
   "execution_count": 27,
   "id": "e138d11e",
   "metadata": {},
   "outputs": [
    {
     "name": "stdout",
     "output_type": "stream",
     "text": [
      "Maisy says Meow\n"
     ]
    }
   ],
   "source": [
    "pet2.make_noise()"
   ]
  },
  {
   "cell_type": "code",
   "execution_count": null,
   "id": "af878ff9",
   "metadata": {},
   "outputs": [],
   "source": []
  }
 ],
 "metadata": {
  "kernelspec": {
   "display_name": "Python 3 (ipykernel)",
   "language": "python",
   "name": "python3"
  },
  "language_info": {
   "codemirror_mode": {
    "name": "ipython",
    "version": 3
   },
   "file_extension": ".py",
   "mimetype": "text/x-python",
   "name": "python",
   "nbconvert_exporter": "python",
   "pygments_lexer": "ipython3",
   "version": "3.9.7"
  }
 },
 "nbformat": 4,
 "nbformat_minor": 5
}
