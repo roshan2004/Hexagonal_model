{
 "cells": [
  {
   "cell_type": "code",
   "execution_count": 14,
   "id": "8bd99db0",
   "metadata": {},
   "outputs": [],
   "source": [
    "import MDAnalysis as mda\n",
    "import numpy as np"
   ]
  },
  {
   "cell_type": "code",
   "execution_count": 15,
   "id": "ac3d0998",
   "metadata": {},
   "outputs": [
    {
     "name": "stderr",
     "output_type": "stream",
     "text": [
      "/home/rshrestha/.local/lib/python3.9/site-packages/MDAnalysis/core/universe.py:147: UserWarning: No coordinate reader found for graphene.itp. Skipping this file.\n",
      "  warnings.warn('No coordinate reader found for {}. Skipping '\n"
     ]
    }
   ],
   "source": [
    "u = mda.Universe('graphene.itp')"
   ]
  },
  {
   "cell_type": "code",
   "execution_count": 16,
   "id": "22a65923",
   "metadata": {},
   "outputs": [
    {
     "data": {
      "text/plain": [
       "<AtomGroup with 500 atoms>"
      ]
     },
     "execution_count": 16,
     "metadata": {},
     "output_type": "execute_result"
    }
   ],
   "source": [
    "u.atoms[u.atoms.masses == 0]"
   ]
  },
  {
   "cell_type": "code",
   "execution_count": 17,
   "id": "284e52de",
   "metadata": {},
   "outputs": [
    {
     "data": {
      "text/plain": [
       "array([45., 45., 45., ..., 45., 45., 45.])"
      ]
     },
     "execution_count": 17,
     "metadata": {},
     "output_type": "execute_result"
    }
   ],
   "source": [
    "u.atoms.masses"
   ]
  },
  {
   "cell_type": "code",
   "execution_count": 18,
   "id": "26cc5910",
   "metadata": {},
   "outputs": [],
   "source": [
    "!gedit graphene.itp"
   ]
  },
  {
   "cell_type": "code",
   "execution_count": 19,
   "id": "51092709",
   "metadata": {},
   "outputs": [
    {
     "data": {
      "text/plain": [
       "<TopologyGroup containing 1591 bonds>"
      ]
     },
     "execution_count": 19,
     "metadata": {},
     "output_type": "execute_result"
    }
   ],
   "source": [
    "u.atoms.bonds"
   ]
  },
  {
   "cell_type": "code",
   "execution_count": 20,
   "id": "8f9bafe1",
   "metadata": {},
   "outputs": [
    {
     "data": {
      "text/plain": [
       "<bound method TopologyGroup.values of <TopologyGroup containing 1591 bonds>>"
      ]
     },
     "execution_count": 20,
     "metadata": {},
     "output_type": "execute_result"
    }
   ],
   "source": [
    "u.atoms.bonds.values"
   ]
  },
  {
   "cell_type": "code",
   "execution_count": 24,
   "id": "53f17a24",
   "metadata": {},
   "outputs": [
    {
     "data": {
      "text/plain": [
       "57312.0"
      ]
     },
     "execution_count": 24,
     "metadata": {},
     "output_type": "execute_result"
    }
   ],
   "source": [
    "u.atoms.total_mass()"
   ]
  },
  {
   "cell_type": "code",
   "execution_count": 22,
   "id": "1757a53c",
   "metadata": {},
   "outputs": [
    {
     "data": {
      "text/plain": [
       "45.0"
      ]
     },
     "execution_count": 22,
     "metadata": {},
     "output_type": "execute_result"
    }
   ],
   "source": [
    "u.atoms[0].mass"
   ]
  },
  {
   "cell_type": "code",
   "execution_count": 25,
   "id": "d2b0a5c2",
   "metadata": {},
   "outputs": [
    {
     "data": {
      "text/plain": [
       "57312"
      ]
     },
     "execution_count": 25,
     "metadata": {},
     "output_type": "execute_result"
    }
   ],
   "source": [
    "u.atoms.n_atoms * 36"
   ]
  },
  {
   "cell_type": "code",
   "execution_count": 26,
   "id": "1719e42b",
   "metadata": {},
   "outputs": [],
   "source": []
  },
  {
   "cell_type": "code",
   "execution_count": null,
   "id": "983dac47",
   "metadata": {},
   "outputs": [],
   "source": []
  }
 ],
 "metadata": {
  "kernelspec": {
   "display_name": "Python 3 (ipykernel)",
   "language": "python",
   "name": "python3"
  },
  "language_info": {
   "codemirror_mode": {
    "name": "ipython",
    "version": 3
   },
   "file_extension": ".py",
   "mimetype": "text/x-python",
   "name": "python",
   "nbconvert_exporter": "python",
   "pygments_lexer": "ipython3",
   "version": "3.9.7"
  }
 },
 "nbformat": 4,
 "nbformat_minor": 5
}
