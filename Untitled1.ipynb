{
 "cells": [
  {
   "cell_type": "code",
   "execution_count": 5,
   "id": "e8dde834",
   "metadata": {},
   "outputs": [],
   "source": [
    "import numpy as np\n",
    "import MDAnalysis as mda\n",
    "from MDAnalysis.lib.distances import calc_angles, calc_bonds, calc_dihedrals"
   ]
  },
  {
   "cell_type": "code",
   "execution_count": 9,
   "id": "3f7dd34a",
   "metadata": {},
   "outputs": [
    {
     "name": "stderr",
     "output_type": "stream",
     "text": [
      "/home/rshrestha/.local/lib/python3.9/site-packages/MDAnalysis/topology/guessers.py:146: UserWarning: Failed to guess the mass for the following atom types: X\n",
      "  warnings.warn(\"Failed to guess the mass for the following atom types: {}\".format(atom_type))\n",
      "/home/rshrestha/.local/lib/python3.9/site-packages/MDAnalysis/coordinates/GRO.py:229: UserWarning: Empty box [0., 0., 0.] found - treating as missing unit cell. Dimensions set to `None`.\n",
      "  warnings.warn(wmsg)\n"
     ]
    }
   ],
   "source": [
    "u = mda.Universe('input.gro')\n",
    "c = np.unique(u.atoms.positions[:,1])\n",
    "u.atoms.masses = 36"
   ]
  },
  {
   "cell_type": "code",
   "execution_count": 91,
   "id": "2c287c7d",
   "metadata": {},
   "outputs": [],
   "source": [
    "for j in range(len(c)): # Looping through each row, defined by the y-coordinate\n",
    "    if (j !=0) and (j !=len(c)-1):\n",
    "        if j % 2 !=0:\n",
    "            group = u.atoms[u.atoms.positions[:,1] == c[j]]\n",
    "            gr = np.arange(1, len(group), 3)\n",
    "            for k in gr:\n",
    "                u.atoms[group[k].index].mass = 0\n",
    "            \n",
    "        else:\n",
    "            group = u.atoms[u.atoms.positions[:,1] == c[j]]\n",
    "            gr = np.arange(2, len(group), 3)\n",
    "            for k in gr:\n",
    "                u.atoms[group[k].index].mass = 0"
   ]
  },
  {
   "cell_type": "code",
   "execution_count": 92,
   "id": "c70415a6",
   "metadata": {},
   "outputs": [],
   "source": [
    "def hexagon(universe):\n",
    "    \n",
    "    ''' Identifying the vertics of hexagon around a virtual site '''\n",
    "    \n",
    "    b = u.atoms[u.atoms.masses == 0].indices\n",
    "    hexagon_indices = []\n",
    "    for i in b:\n",
    "        empty = []\n",
    "        for j in u.atoms.indices:\n",
    "            if (2.55 <= calc_bonds(u.atoms[j].position, u.atoms[i].position) <= 2.57):\n",
    "                empty.append(j)\n",
    "        hexagon_indices.append(empty)\n",
    "    return hexagon_indices"
   ]
  },
  {
   "cell_type": "code",
   "execution_count": 14,
   "id": "7961c038",
   "metadata": {},
   "outputs": [],
   "source": [
    "b = u.atoms[u.atoms.masses == 0].indices"
   ]
  },
  {
   "cell_type": "code",
   "execution_count": 15,
   "id": "270cc3a5",
   "metadata": {},
   "outputs": [
    {
     "data": {
      "text/plain": [
       "array([ 7, 10, 13, 17, 20, 24, 27, 30])"
      ]
     },
     "execution_count": 15,
     "metadata": {},
     "output_type": "execute_result"
    }
   ],
   "source": [
    "b"
   ]
  },
  {
   "cell_type": "code",
   "execution_count": 17,
   "id": "e96e3716",
   "metadata": {},
   "outputs": [
    {
     "data": {
      "text/plain": [
       "[[0, 1, 6, 8, 15, 16],\n",
       " [2, 3, 9, 11, 18, 19],\n",
       " [4, 5, 12, 14, 21, 22],\n",
       " [8, 9, 16, 18, 25, 26],\n",
       " [11, 12, 19, 21, 28, 29],\n",
       " [15, 16, 23, 25, 32, 33],\n",
       " [18, 19, 26, 28, 34, 35],\n",
       " [21, 22, 29, 31, 36, 37]]"
      ]
     },
     "execution_count": 17,
     "metadata": {},
     "output_type": "execute_result"
    }
   ],
   "source": [
    "hexagon(u)"
   ]
  },
  {
   "cell_type": "code",
   "execution_count": 184,
   "id": "66e2a4f5",
   "metadata": {},
   "outputs": [],
   "source": [
    "def bonds(universe):\n",
    "    ''' Returns the list of pair of indices for which bonds are defined '''\n",
    "    list_of_bonds = []\n",
    "    bds = []\n",
    "    for element in hexagon(u):\n",
    "        for i in element:\n",
    "            for j in element:\n",
    "                if i < j:\n",
    "                    if (2.55 <= calc_bonds(u.atoms[j].position, u.atoms[i].position) <= 2.57):\n",
    "                        bds.append((i,j))\n",
    "                        \n",
    "    for bond in bds:\n",
    "        if bond not in list_of_bonds:\n",
    "            list_of_bonds.append(bond)\n",
    "                        \n",
    "    \n",
    "    return list_of_bonds"
   ]
  },
  {
   "cell_type": "code",
   "execution_count": 30,
   "id": "826ec746",
   "metadata": {},
   "outputs": [
    {
     "name": "stdout",
     "output_type": "stream",
     "text": [
      "  1         2         1     0.256     20000\n",
      "  1         7         1     0.256     20000\n",
      "  2         9         1     0.256     20000\n",
      "  7         16        1     0.256     20000\n",
      "  9         17        1     0.256     20000\n",
      "  16        17        1     0.256     20000\n",
      "  3         4         1     0.256     20000\n",
      "  3         10        1     0.256     20000\n",
      "  4         12        1     0.256     20000\n",
      "  10        19        1     0.256     20000\n",
      "  12        20        1     0.256     20000\n",
      "  19        20        1     0.256     20000\n",
      "  5         6         1     0.256     20000\n",
      "  5         13        1     0.256     20000\n",
      "  6         15        1     0.256     20000\n",
      "  13        22        1     0.256     20000\n",
      "  15        23        1     0.256     20000\n",
      "  22        23        1     0.256     20000\n",
      "  9         10        1     0.256     20000\n",
      "  9         17        1     0.256     20000\n",
      "  10        19        1     0.256     20000\n",
      "  17        26        1     0.256     20000\n",
      "  19        27        1     0.256     20000\n",
      "  26        27        1     0.256     20000\n",
      "  12        13        1     0.256     20000\n",
      "  12        20        1     0.256     20000\n",
      "  13        22        1     0.256     20000\n",
      "  20        29        1     0.256     20000\n",
      "  22        30        1     0.256     20000\n",
      "  29        30        1     0.256     20000\n",
      "  16        17        1     0.256     20000\n",
      "  16        24        1     0.256     20000\n",
      "  17        26        1     0.256     20000\n",
      "  24        33        1     0.256     20000\n",
      "  26        34        1     0.256     20000\n",
      "  33        34        1     0.256     20000\n",
      "  19        20        1     0.256     20000\n",
      "  19        27        1     0.256     20000\n",
      "  20        29        1     0.256     20000\n",
      "  27        35        1     0.256     20000\n",
      "  29        36        1     0.256     20000\n",
      "  35        36        1     0.256     20000\n",
      "  22        23        1     0.256     20000\n",
      "  22        30        1     0.256     20000\n",
      "  23        32        1     0.256     20000\n",
      "  30        37        1     0.256     20000\n",
      "  32        38        1     0.256     20000\n",
      "  37        38        1     0.256     20000\n"
     ]
    }
   ],
   "source": [
    "for i in bonds(u):\n",
    "    print(f\"  {i[0]+1:<5}     {i[1]+1:<5}     1     0.256     20000\")"
   ]
  },
  {
   "cell_type": "code",
   "execution_count": 28,
   "id": "bb370d90",
   "metadata": {},
   "outputs": [
    {
     "name": "stdout",
     "output_type": "stream",
     "text": [
      "  1         TC5     0     GRA     B1         1         36\n",
      "  2         TC5     0     GRA     B2         2         36\n",
      "  3         TC5     0     GRA     B3         3         36\n",
      "  4         TC5     0     GRA     B4         4         36\n",
      "  5         TC5     0     GRA     B5         5         36\n",
      "  6         TC5     0     GRA     B6         6         36\n",
      "  7         TC5     0     GRA     B7         7         36\n",
      "  8         TC5     0     GRA     B8         8         0\n",
      "  9         TC5     0     GRA     B9         9         36\n",
      "  10        TC5     0     GRA     B10        10        36\n",
      "  11        TC5     0     GRA     B11        11        0\n",
      "  12        TC5     0     GRA     B12        12        36\n",
      "  13        TC5     0     GRA     B13        13        36\n",
      "  14        TC5     0     GRA     B14        14        0\n",
      "  15        TC5     0     GRA     B15        15        36\n",
      "  16        TC5     0     GRA     B16        16        36\n",
      "  17        TC5     0     GRA     B17        17        36\n",
      "  18        TC5     0     GRA     B18        18        0\n",
      "  19        TC5     0     GRA     B19        19        36\n",
      "  20        TC5     0     GRA     B20        20        36\n",
      "  21        TC5     0     GRA     B21        21        0\n",
      "  22        TC5     0     GRA     B22        22        36\n",
      "  23        TC5     0     GRA     B23        23        36\n",
      "  24        TC5     0     GRA     B24        24        36\n",
      "  25        TC5     0     GRA     B25        25        0\n",
      "  26        TC5     0     GRA     B26        26        36\n",
      "  27        TC5     0     GRA     B27        27        36\n",
      "  28        TC5     0     GRA     B28        28        0\n",
      "  29        TC5     0     GRA     B29        29        36\n",
      "  30        TC5     0     GRA     B30        30        36\n",
      "  31        TC5     0     GRA     B31        31        0\n",
      "  32        TC5     0     GRA     B32        32        36\n",
      "  33        TC5     0     GRA     B33        33        36\n",
      "  34        TC5     0     GRA     B34        34        36\n",
      "  35        TC5     0     GRA     B35        35        36\n",
      "  36        TC5     0     GRA     B36        36        36\n",
      "  37        TC5     0     GRA     B37        37        36\n",
      "  38        TC5     0     GRA     B38        38        36\n"
     ]
    }
   ],
   "source": [
    "for i in range(1, u.atoms.n_atoms+1):\n",
    "    print(f\"  {i:<5}     TC5     0     GRA     B{i:<5}     {i:<5}     {int(u.atoms[i-1].mass)}\")\n",
    "    "
   ]
  },
  {
   "cell_type": "code",
   "execution_count": 29,
   "id": "d23d1467",
   "metadata": {},
   "outputs": [
    {
     "data": {
      "text/plain": [
       "[[0, 1, 6, 8, 15, 16],\n",
       " [2, 3, 9, 11, 18, 19],\n",
       " [4, 5, 12, 14, 21, 22],\n",
       " [8, 9, 16, 18, 25, 26],\n",
       " [11, 12, 19, 21, 28, 29],\n",
       " [15, 16, 23, 25, 32, 33],\n",
       " [18, 19, 26, 28, 34, 35],\n",
       " [21, 22, 29, 31, 36, 37]]"
      ]
     },
     "execution_count": 29,
     "metadata": {},
     "output_type": "execute_result"
    }
   ],
   "source": [
    "hexagon(u)"
   ]
  },
  {
   "cell_type": "code",
   "execution_count": 93,
   "id": "12d6d289",
   "metadata": {},
   "outputs": [],
   "source": [
    "def virtual_sites(universe):\n",
    "    \n",
    "    ''' Identifying the vertics of hexagon around a virtual site '''\n",
    "    \n",
    "    b = u.atoms[u.atoms.masses == 0].indices\n",
    "    hexagon_indices = []\n",
    "    for i in b:\n",
    "        empty = []\n",
    "        \n",
    "        for j in u.atoms.indices:\n",
    "            if (2.55 <= calc_bonds(u.atoms[j].position, u.atoms[i].position) <= 2.57):\n",
    "                empty.append(u.atoms[j])\n",
    "        empty = sorted(empty, key = lambda x: x.position[1])\n",
    "        empty = [i.index for i in empty]\n",
    "        data = empty[:2] + empty[-2:]\n",
    "        data.append(u.atoms[i].index)\n",
    "        data = data[::-1]\n",
    "        hexagon_indices.append(data)\n",
    "        \n",
    "    return hexagon_indices"
   ]
  },
  {
   "cell_type": "code",
   "execution_count": 94,
   "id": "7ded8c2b",
   "metadata": {},
   "outputs": [
    {
     "data": {
      "text/plain": [
       "[[7, 16, 15, 1, 0],\n",
       " [10, 19, 18, 3, 2],\n",
       " [13, 22, 21, 5, 4],\n",
       " [17, 26, 25, 9, 8],\n",
       " [20, 29, 28, 12, 11],\n",
       " [24, 33, 32, 16, 15],\n",
       " [27, 35, 34, 19, 18],\n",
       " [30, 37, 36, 22, 21]]"
      ]
     },
     "execution_count": 94,
     "metadata": {},
     "output_type": "execute_result"
    }
   ],
   "source": [
    "virtual_sites(u)"
   ]
  },
  {
   "cell_type": "code",
   "execution_count": 49,
   "id": "3735a9dd",
   "metadata": {},
   "outputs": [
    {
     "data": {
      "text/plain": [
       "[<Atom 1: X of type X of resname UNK, resid 1 and segid SYSTEM>,\n",
       " <Atom 2: X of type X of resname UNK, resid 1 and segid SYSTEM>,\n",
       " <Atom 8: X of type X of resname UNK, resid 1 and segid SYSTEM>,\n",
       " <Atom 7: X of type X of resname UNK, resid 1 and segid SYSTEM>,\n",
       " <Atom 9: X of type X of resname UNK, resid 1 and segid SYSTEM>,\n",
       " <Atom 16: X of type X of resname UNK, resid 1 and segid SYSTEM>,\n",
       " <Atom 17: X of type X of resname UNK, resid 1 and segid SYSTEM>]"
      ]
     },
     "execution_count": 49,
     "metadata": {},
     "output_type": "execute_result"
    }
   ],
   "source": [
    "sorted(virtual_site(u)[0], key = lambda x: x.position[1])"
   ]
  },
  {
   "cell_type": "code",
   "execution_count": 74,
   "id": "4941c6df",
   "metadata": {},
   "outputs": [
    {
     "name": "stdout",
     "output_type": "stream",
     "text": [
      "7  16  15  1  0\n",
      "10  19  18  3  2\n",
      "13  22  21  5  4\n",
      "17  26  25  9  8\n",
      "20  29  28  12  11\n",
      "24  33  32  16  15\n",
      "27  35  34  19  18\n",
      "30  37  36  22  21\n"
     ]
    }
   ],
   "source": [
    "for i in exclusions(u):\n",
    "    print(*i, sep = '  ')"
   ]
  },
  {
   "cell_type": "code",
   "execution_count": 96,
   "id": "083adef8",
   "metadata": {},
   "outputs": [
    {
     "name": "stdout",
     "output_type": "stream",
     "text": [
      "  8       1     17      16      2      1  \n",
      "  11      1     20      19      4      3  \n",
      "  14      1     23      22      6      5  \n",
      "  18      1     27      26      10     9  \n",
      "  21      1     30      29      13     12 \n",
      "  25      1     34      33      17     16 \n",
      "  28      1     36      35      20     19 \n",
      "  31      1     38      37      23     22 \n"
     ]
    }
   ],
   "source": [
    "for i in virtual_sites(u):\n",
    "    print(f\"  {i[0]+1:<3}     1     {i[1]+1:<3}     {i[2]+1:<3}     {i[3]+1:<3}    {i[4]+1:<3}\")"
   ]
  },
  {
   "cell_type": "code",
   "execution_count": 97,
   "id": "4c8df888",
   "metadata": {},
   "outputs": [],
   "source": [
    "def exclusions(universe):\n",
    "    \n",
    "    ''' Identifying the vertics of hexagon around a virtual site '''\n",
    "    \n",
    "    b = u.atoms[u.atoms.masses == 0].indices\n",
    "    hexagon_indices = []\n",
    "    for i in b:\n",
    "        empty = []\n",
    "        empty.append(i)\n",
    "        for j in u.atoms.indices:\n",
    "            if (2.55 <= calc_bonds(u.atoms[j].position, u.atoms[i].position) <= 2.57):\n",
    "                empty.append(j)\n",
    "        \n",
    "        hexagon_indices.append(empty)\n",
    "    return hexagon_indices"
   ]
  },
  {
   "cell_type": "code",
   "execution_count": 175,
   "id": "d6af581d",
   "metadata": {},
   "outputs": [
    {
     "data": {
      "text/plain": [
       "[[7, 16, 15, 1, 0],\n",
       " [10, 19, 18, 3, 2],\n",
       " [13, 22, 21, 5, 4],\n",
       " [17, 26, 25, 9, 8],\n",
       " [20, 29, 28, 12, 11],\n",
       " [24, 33, 32, 16, 15],\n",
       " [27, 35, 34, 19, 18],\n",
       " [30, 37, 36, 22, 21]]"
      ]
     },
     "execution_count": 175,
     "metadata": {},
     "output_type": "execute_result"
    }
   ],
   "source": [
    "virtual_sites(u)"
   ]
  },
  {
   "cell_type": "code",
   "execution_count": 99,
   "id": "08bf1f87",
   "metadata": {},
   "outputs": [
    {
     "name": "stdout",
     "output_type": "stream",
     "text": [
      "  8       1       2       7      9       16      17 \n",
      "  11      3       4       10     12      19      20 \n",
      "  14      5       6       13     15      22      23 \n",
      "  18      9       10      17     19      26      27 \n",
      "  21      12      13      20     22      29      30 \n",
      "  25      16      17      24     26      33      34 \n",
      "  28      19      20      27     29      35      36 \n",
      "  31      22      23      30     32      37      38 \n"
     ]
    }
   ],
   "source": [
    "for i in exclusions(u):\n",
    "    print(f\"  {i[0]+1:<3}     {i[1]+1:<3}     {i[2]+1:<3}     {i[3]+1:<3}    {i[4]+1:<3}     {i[5]+1:<3}     {i[6]+1:<3}\")"
   ]
  },
  {
   "cell_type": "code",
   "execution_count": 88,
   "id": "be48d8e1",
   "metadata": {},
   "outputs": [
    {
     "data": {
      "text/plain": [
       "array([36., 36., 36., 36., 36., 36., 36.,  0., 36., 36.,  0., 36., 36.,\n",
       "        0., 36., 36., 36.,  0., 36., 36.,  0., 36., 36., 36.,  0., 36.,\n",
       "       36.,  0., 36., 36.,  0., 36., 36., 36., 36., 36., 36., 36.])"
      ]
     },
     "execution_count": 88,
     "metadata": {},
     "output_type": "execute_result"
    }
   ],
   "source": [
    "u.atoms.masses"
   ]
  },
  {
   "cell_type": "code",
   "execution_count": 89,
   "id": "ce265046",
   "metadata": {},
   "outputs": [],
   "source": [
    "u.atoms.masses = 36"
   ]
  },
  {
   "cell_type": "code",
   "execution_count": 90,
   "id": "61d1faaa",
   "metadata": {},
   "outputs": [
    {
     "data": {
      "text/plain": [
       "array([36., 36., 36., 36., 36., 36., 36., 36., 36., 36., 36., 36., 36.,\n",
       "       36., 36., 36., 36., 36., 36., 36., 36., 36., 36., 36., 36., 36.,\n",
       "       36., 36., 36., 36., 36., 36., 36., 36., 36., 36., 36., 36.])"
      ]
     },
     "execution_count": 90,
     "metadata": {},
     "output_type": "execute_result"
    }
   ],
   "source": [
    "u.atoms.masses"
   ]
  },
  {
   "cell_type": "code",
   "execution_count": null,
   "id": "05a67152",
   "metadata": {},
   "outputs": [],
   "source": [
    "def mass_virtual(universe):\n",
    "    vs = virtual_site1(new_list) + virtual_site2(list_of)\n",
    "    dc = {}\n",
    "    il = []\n",
    "    for i in list_of:\n",
    "        for j in i:\n",
    "            il.append(j)\n",
    "    for i in il:\n",
    "        dc[i] = 36\n",
    "    \n",
    "    for i in range(len(vs)):\n",
    "        dc[vs[i][0]] = 0\n",
    "        \n",
    "    for i in range(len(vs)):\n",
    "        for j, k in dc.items():\n",
    "            if j in vs[i][-2:]:\n",
    "                dc[j] +=18\n",
    "        \n",
    "    return dc"
   ]
  },
  {
   "cell_type": "code",
   "execution_count": 101,
   "id": "1c318e47",
   "metadata": {},
   "outputs": [
    {
     "data": {
      "text/plain": [
       "array([36., 36., 36., 36., 36., 36., 36.,  0., 36., 36.,  0., 36., 36.,\n",
       "        0., 36., 36., 36.,  0., 36., 36.,  0., 36., 36., 36.,  0., 36.,\n",
       "       36.,  0., 36., 36.,  0., 36., 36., 36., 36., 36., 36., 36.])"
      ]
     },
     "execution_count": 101,
     "metadata": {},
     "output_type": "execute_result"
    }
   ],
   "source": [
    "u.atoms.masses"
   ]
  },
  {
   "cell_type": "code",
   "execution_count": 103,
   "id": "a22bb50d",
   "metadata": {},
   "outputs": [
    {
     "data": {
      "text/plain": [
       "119.96674330596238"
      ]
     },
     "execution_count": 103,
     "metadata": {},
     "output_type": "execute_result"
    }
   ],
   "source": [
    "import math\n",
    "math.degrees(calc_angles(u.atoms[6].position, u.atoms[0].position, u.atoms[1].position))"
   ]
  },
  {
   "cell_type": "code",
   "execution_count": 104,
   "id": "8b435fff",
   "metadata": {},
   "outputs": [
    {
     "data": {
      "text/plain": [
       "[[0, 1, 6, 8, 15, 16],\n",
       " [2, 3, 9, 11, 18, 19],\n",
       " [4, 5, 12, 14, 21, 22],\n",
       " [8, 9, 16, 18, 25, 26],\n",
       " [11, 12, 19, 21, 28, 29],\n",
       " [15, 16, 23, 25, 32, 33],\n",
       " [18, 19, 26, 28, 34, 35],\n",
       " [21, 22, 29, 31, 36, 37]]"
      ]
     },
     "execution_count": 104,
     "metadata": {},
     "output_type": "execute_result"
    }
   ],
   "source": [
    "hexagon(u)"
   ]
  },
  {
   "cell_type": "code",
   "execution_count": 105,
   "id": "2f0bacf4",
   "metadata": {},
   "outputs": [],
   "source": [
    "ll = hexagon(u)[0]"
   ]
  },
  {
   "cell_type": "code",
   "execution_count": 130,
   "id": "2aef41bb",
   "metadata": {},
   "outputs": [
    {
     "data": {
      "text/plain": [
       "[0, 1, 6, 8, 15, 16]"
      ]
     },
     "execution_count": 130,
     "metadata": {},
     "output_type": "execute_result"
    }
   ],
   "source": [
    "ll"
   ]
  },
  {
   "cell_type": "code",
   "execution_count": 154,
   "id": "d497d17c",
   "metadata": {},
   "outputs": [],
   "source": [
    "dd = []\n",
    "for i in ll:\n",
    "    for j in ll:\n",
    "        for k in ll:\n",
    "            if (119 <= math.degrees(calc_angles(u.atoms[i].position, u.atoms[j].position, u.atoms[k].position)) <= 121):\n",
    "                        dd.append([i,j,k])\n",
    "                    \n",
    "\n",
    "\n",
    "\n",
    "\n",
    "\n",
    "            "
   ]
  },
  {
   "cell_type": "code",
   "execution_count": 155,
   "id": "c51dbd90",
   "metadata": {},
   "outputs": [
    {
     "data": {
      "text/plain": [
       "[[0, 1, 8],\n",
       " [0, 6, 15],\n",
       " [1, 0, 6],\n",
       " [1, 8, 16],\n",
       " [6, 0, 1],\n",
       " [6, 15, 16],\n",
       " [8, 1, 0],\n",
       " [8, 16, 15],\n",
       " [15, 6, 0],\n",
       " [15, 16, 8],\n",
       " [16, 8, 1],\n",
       " [16, 15, 6]]"
      ]
     },
     "execution_count": 155,
     "metadata": {},
     "output_type": "execute_result"
    }
   ],
   "source": [
    "dd"
   ]
  },
  {
   "cell_type": "code",
   "execution_count": 114,
   "id": "7480c7f8",
   "metadata": {},
   "outputs": [
    {
     "data": {
      "text/plain": [
       "30.033279769432017"
      ]
     },
     "execution_count": 114,
     "metadata": {},
     "output_type": "execute_result"
    }
   ],
   "source": [
    "math.degrees(calc_angles(u.atoms[0].position, u.atoms[1].position, u.atoms[6].position))"
   ]
  },
  {
   "cell_type": "code",
   "execution_count": 132,
   "id": "b2f9dd90",
   "metadata": {},
   "outputs": [
    {
     "name": "stdout",
     "output_type": "stream",
     "text": [
      "True\n",
      "True\n",
      "True\n",
      "True\n",
      "True\n",
      "True\n",
      "True\n",
      "True\n",
      "True\n",
      "True\n",
      "True\n",
      "True\n"
     ]
    }
   ],
   "source": []
  },
  {
   "cell_type": "code",
   "execution_count": 120,
   "id": "49e3a4d2",
   "metadata": {},
   "outputs": [
    {
     "data": {
      "text/plain": [
       "[[0, 1, 8],\n",
       " [0, 6, 15],\n",
       " [1, 0, 6],\n",
       " [1, 8, 16],\n",
       " [6, 0, 1],\n",
       " [6, 15, 16],\n",
       " [8, 1, 0],\n",
       " [8, 16, 15],\n",
       " [15, 6, 0],\n",
       " [15, 16, 8],\n",
       " [16, 8, 1],\n",
       " [16, 15, 6]]"
      ]
     },
     "execution_count": 120,
     "metadata": {},
     "output_type": "execute_result"
    }
   ],
   "source": [
    "dd"
   ]
  },
  {
   "cell_type": "code",
   "execution_count": 138,
   "id": "3499f53b",
   "metadata": {},
   "outputs": [
    {
     "data": {
      "text/plain": [
       "[[0, 1, 8],\n",
       " [0, 6, 15],\n",
       " [1, 0, 6],\n",
       " [1, 8, 16],\n",
       " [6, 0, 1],\n",
       " [6, 15, 16],\n",
       " [8, 1, 0],\n",
       " [8, 16, 15],\n",
       " [15, 6, 0],\n",
       " [15, 16, 8],\n",
       " [16, 8, 1],\n",
       " [16, 15, 6]]"
      ]
     },
     "execution_count": 138,
     "metadata": {},
     "output_type": "execute_result"
    }
   ],
   "source": [
    "sorted(dd, key = lambda x: x[0])"
   ]
  },
  {
   "cell_type": "code",
   "execution_count": 139,
   "id": "8c41893e",
   "metadata": {},
   "outputs": [
    {
     "data": {
      "text/plain": [
       "[[0, 1, 8],\n",
       " [0, 6, 15],\n",
       " [1, 0, 6],\n",
       " [1, 8, 16],\n",
       " [6, 0, 1],\n",
       " [6, 15, 16],\n",
       " [8, 1, 0],\n",
       " [8, 16, 15],\n",
       " [15, 6, 0],\n",
       " [15, 16, 8],\n",
       " [16, 8, 1],\n",
       " [16, 15, 6]]"
      ]
     },
     "execution_count": 139,
     "metadata": {},
     "output_type": "execute_result"
    }
   ],
   "source": [
    "dd"
   ]
  },
  {
   "cell_type": "code",
   "execution_count": 141,
   "id": "a855b87b",
   "metadata": {},
   "outputs": [
    {
     "data": {
      "text/plain": [
       "[8, 1, 0]"
      ]
     },
     "execution_count": 141,
     "metadata": {},
     "output_type": "execute_result"
    }
   ],
   "source": [
    "dd[6]"
   ]
  },
  {
   "cell_type": "code",
   "execution_count": 142,
   "id": "9cf71b49",
   "metadata": {},
   "outputs": [
    {
     "ename": "SyntaxError",
     "evalue": "invalid syntax (53259820.py, line 1)",
     "output_type": "error",
     "traceback": [
      "\u001b[0;36m  File \u001b[0;32m\"/tmp/ipykernel_3277539/53259820.py\"\u001b[0;36m, line \u001b[0;32m1\u001b[0m\n\u001b[0;31m    fo i in dd[6]:\u001b[0m\n\u001b[0m       ^\u001b[0m\n\u001b[0;31mSyntaxError\u001b[0m\u001b[0;31m:\u001b[0m invalid syntax\n"
     ]
    }
   ],
   "source": [
    "for i in dd[6]:\n",
    "    if i[0] > i[-1]:\n",
    "        i[0], i[-1] = i[-1], i[0]"
   ]
  },
  {
   "cell_type": "code",
   "execution_count": 145,
   "id": "e8648be0",
   "metadata": {},
   "outputs": [],
   "source": [
    "for i in dd:\n",
    "        if i[0] > i[-1]:\n",
    "            i[0], i[-1] = i[-1], i[0]"
   ]
  },
  {
   "cell_type": "code",
   "execution_count": 147,
   "id": "a31b259a",
   "metadata": {},
   "outputs": [
    {
     "data": {
      "text/plain": [
       "[[0, 1, 8],\n",
       " [0, 6, 15],\n",
       " [1, 0, 6],\n",
       " [1, 8, 16],\n",
       " [1, 0, 6],\n",
       " [6, 15, 16],\n",
       " [0, 1, 8],\n",
       " [8, 16, 15],\n",
       " [0, 6, 15],\n",
       " [8, 16, 15],\n",
       " [1, 8, 16],\n",
       " [6, 15, 16]]"
      ]
     },
     "execution_count": 147,
     "metadata": {},
     "output_type": "execute_result"
    }
   ],
   "source": [
    "dd"
   ]
  },
  {
   "cell_type": "code",
   "execution_count": 152,
   "id": "bf8c4cda",
   "metadata": {},
   "outputs": [],
   "source": [
    "un =[]\n",
    "for k in dd:\n",
    "    if k not in un:\n",
    "        un.append(k)\n",
    "    "
   ]
  },
  {
   "cell_type": "code",
   "execution_count": 153,
   "id": "223c68ee",
   "metadata": {},
   "outputs": [
    {
     "data": {
      "text/plain": [
       "[[0, 1, 8], [0, 6, 15], [1, 0, 6], [1, 8, 16], [6, 15, 16], [8, 16, 15]]"
      ]
     },
     "execution_count": 153,
     "metadata": {},
     "output_type": "execute_result"
    }
   ],
   "source": [
    "un"
   ]
  },
  {
   "cell_type": "code",
   "execution_count": 171,
   "id": "2a48737b",
   "metadata": {},
   "outputs": [],
   "source": [
    "def angles(universe):\n",
    "    ''' Returns the list of triplet of indices for which an angle is defined '''\n",
    "    list_of_angles = []\n",
    "    dd = []\n",
    "    for hex in hexagon(u):\n",
    "        for i in hex:\n",
    "            for j in hex:\n",
    "                for k in hex:\n",
    "                    if (119 <= math.degrees(calc_angles(u.atoms[i].position, u.atoms[j].position, u.atoms[k].position)) <= 121):\n",
    "                        dd.append([i,j,k])\n",
    "                        \n",
    "    for angle in dd:\n",
    "        if angle[0] > angle[-1]:\n",
    "            angle[0], angle[-1] = angle[-1], angle[0]\n",
    "            \n",
    "    for val in dd:\n",
    "        if val not in list_of_angles:\n",
    "            list_of_angles.append(val)\n",
    "            \n",
    "    return list_of_angles"
   ]
  },
  {
   "cell_type": "code",
   "execution_count": 172,
   "id": "797bee02",
   "metadata": {},
   "outputs": [
    {
     "data": {
      "text/plain": [
       "48"
      ]
     },
     "execution_count": 172,
     "metadata": {},
     "output_type": "execute_result"
    }
   ],
   "source": [
    "len(angles(u))"
   ]
  },
  {
   "cell_type": "code",
   "execution_count": 164,
   "id": "3726a9d1",
   "metadata": {},
   "outputs": [
    {
     "data": {
      "text/plain": [
       "48"
      ]
     },
     "execution_count": 164,
     "metadata": {},
     "output_type": "execute_result"
    }
   ],
   "source": [
    "len(hexagon(u))*6"
   ]
  },
  {
   "cell_type": "code",
   "execution_count": 173,
   "id": "268888e8",
   "metadata": {},
   "outputs": [
    {
     "data": {
      "text/plain": [
       "[[0, 1, 8],\n",
       " [0, 6, 15],\n",
       " [1, 0, 6],\n",
       " [1, 8, 16],\n",
       " [6, 15, 16],\n",
       " [8, 16, 15],\n",
       " [2, 3, 11],\n",
       " [2, 9, 18],\n",
       " [3, 2, 9],\n",
       " [3, 11, 19],\n",
       " [9, 18, 19],\n",
       " [11, 19, 18],\n",
       " [4, 5, 14],\n",
       " [4, 12, 21],\n",
       " [5, 4, 12],\n",
       " [5, 14, 22],\n",
       " [12, 21, 22],\n",
       " [14, 22, 21],\n",
       " [8, 9, 18],\n",
       " [8, 16, 25],\n",
       " [9, 8, 16],\n",
       " [9, 18, 26],\n",
       " [16, 25, 26],\n",
       " [18, 26, 25],\n",
       " [11, 12, 21],\n",
       " [11, 19, 28],\n",
       " [12, 11, 19],\n",
       " [12, 21, 29],\n",
       " [19, 28, 29],\n",
       " [21, 29, 28],\n",
       " [15, 16, 25],\n",
       " [15, 23, 32],\n",
       " [16, 15, 23],\n",
       " [16, 25, 33],\n",
       " [23, 32, 33],\n",
       " [25, 33, 32],\n",
       " [18, 19, 28],\n",
       " [18, 26, 34],\n",
       " [19, 18, 26],\n",
       " [19, 28, 35],\n",
       " [26, 34, 35],\n",
       " [28, 35, 34],\n",
       " [21, 22, 31],\n",
       " [21, 29, 36],\n",
       " [22, 21, 29],\n",
       " [22, 31, 37],\n",
       " [29, 36, 37],\n",
       " [31, 37, 36]]"
      ]
     },
     "execution_count": 173,
     "metadata": {},
     "output_type": "execute_result"
    }
   ],
   "source": [
    "angles(u)"
   ]
  },
  {
   "cell_type": "code",
   "execution_count": 167,
   "id": "e593a4e2",
   "metadata": {},
   "outputs": [
    {
     "data": {
      "text/plain": [
       "96"
      ]
     },
     "execution_count": 167,
     "metadata": {},
     "output_type": "execute_result"
    }
   ],
   "source": [
    "len(angles(u))"
   ]
  },
  {
   "cell_type": "code",
   "execution_count": 168,
   "id": "14adf0c3",
   "metadata": {},
   "outputs": [
    {
     "data": {
      "text/plain": [
       "[11, 12, 21]"
      ]
     },
     "execution_count": 168,
     "metadata": {},
     "output_type": "execute_result"
    }
   ],
   "source": [
    "angles(u)[48]"
   ]
  },
  {
   "cell_type": "code",
   "execution_count": 170,
   "id": "71e50c19",
   "metadata": {},
   "outputs": [
    {
     "data": {
      "text/plain": [
       "[[0, 1, 8],\n",
       " [0, 6, 15],\n",
       " [1, 0, 6],\n",
       " [1, 8, 16],\n",
       " [1, 0, 6],\n",
       " [6, 15, 16],\n",
       " [0, 1, 8]]"
      ]
     },
     "execution_count": 170,
     "metadata": {},
     "output_type": "execute_result"
    }
   ],
   "source": [
    "angles(u)[:7]"
   ]
  },
  {
   "cell_type": "code",
   "execution_count": 174,
   "id": "79068105",
   "metadata": {},
   "outputs": [
    {
     "name": "stdout",
     "output_type": "stream",
     "text": [
      "  1       2       9       1    120     50\n",
      "  1       7       16      1    120     50\n",
      "  2       1       7       1    120     50\n",
      "  2       9       17      1    120     50\n",
      "  7       16      17      1    120     50\n",
      "  9       17      16      1    120     50\n",
      "  3       4       12      1    120     50\n",
      "  3       10      19      1    120     50\n",
      "  4       3       10      1    120     50\n",
      "  4       12      20      1    120     50\n",
      "  10      19      20      1    120     50\n",
      "  12      20      19      1    120     50\n",
      "  5       6       15      1    120     50\n",
      "  5       13      22      1    120     50\n",
      "  6       5       13      1    120     50\n",
      "  6       15      23      1    120     50\n",
      "  13      22      23      1    120     50\n",
      "  15      23      22      1    120     50\n",
      "  9       10      19      1    120     50\n",
      "  9       17      26      1    120     50\n",
      "  10      9       17      1    120     50\n",
      "  10      19      27      1    120     50\n",
      "  17      26      27      1    120     50\n",
      "  19      27      26      1    120     50\n",
      "  12      13      22      1    120     50\n",
      "  12      20      29      1    120     50\n",
      "  13      12      20      1    120     50\n",
      "  13      22      30      1    120     50\n",
      "  20      29      30      1    120     50\n",
      "  22      30      29      1    120     50\n",
      "  16      17      26      1    120     50\n",
      "  16      24      33      1    120     50\n",
      "  17      16      24      1    120     50\n",
      "  17      26      34      1    120     50\n",
      "  24      33      34      1    120     50\n",
      "  26      34      33      1    120     50\n",
      "  19      20      29      1    120     50\n",
      "  19      27      35      1    120     50\n",
      "  20      19      27      1    120     50\n",
      "  20      29      36      1    120     50\n",
      "  27      35      36      1    120     50\n",
      "  29      36      35      1    120     50\n",
      "  22      23      32      1    120     50\n",
      "  22      30      37      1    120     50\n",
      "  23      22      30      1    120     50\n",
      "  23      32      38      1    120     50\n",
      "  30      37      38      1    120     50\n",
      "  32      38      37      1    120     50\n"
     ]
    }
   ],
   "source": [
    "for i in angles(u):\n",
    "    print(f\"  {i[0]+1:<3}     {i[1]+1:<3}     {i[2]+1:<3}     1    120     50\")"
   ]
  },
  {
   "cell_type": "code",
   "execution_count": 187,
   "id": "8dacca46",
   "metadata": {},
   "outputs": [
    {
     "name": "stdout",
     "output_type": "stream",
     "text": [
      "  1       2       1    0.24595     10000\n",
      "  1       7       1    0.24595     10000\n",
      "  2       9       1    0.24595     10000\n",
      "  7       16      1    0.24595     10000\n",
      "  9       17      1    0.24595     10000\n",
      "  16      17      1    0.24595     10000\n",
      "  3       4       1    0.24595     10000\n",
      "  3       10      1    0.24595     10000\n",
      "  4       12      1    0.24595     10000\n",
      "  10      19      1    0.24595     10000\n",
      "  12      20      1    0.24595     10000\n",
      "  19      20      1    0.24595     10000\n",
      "  5       6       1    0.24595     10000\n",
      "  5       13      1    0.24595     10000\n",
      "  6       15      1    0.24595     10000\n",
      "  13      22      1    0.24595     10000\n",
      "  15      23      1    0.24595     10000\n",
      "  22      23      1    0.24595     10000\n",
      "  9       10      1    0.24595     10000\n",
      "  17      26      1    0.24595     10000\n",
      "  19      27      1    0.24595     10000\n",
      "  26      27      1    0.24595     10000\n",
      "  12      13      1    0.24595     10000\n",
      "  20      29      1    0.24595     10000\n",
      "  22      30      1    0.24595     10000\n",
      "  29      30      1    0.24595     10000\n",
      "  16      24      1    0.24595     10000\n",
      "  24      33      1    0.24595     10000\n",
      "  26      34      1    0.24595     10000\n",
      "  33      34      1    0.24595     10000\n",
      "  27      35      1    0.24595     10000\n",
      "  29      36      1    0.24595     10000\n",
      "  35      36      1    0.24595     10000\n",
      "  23      32      1    0.24595     10000\n",
      "  30      37      1    0.24595     10000\n",
      "  32      38      1    0.24595     10000\n",
      "  37      38      1    0.24595     10000\n"
     ]
    }
   ],
   "source": [
    "for i in bonds(u):\n",
    "    print(f\"  {i[0]+1:<3}     {i[1]+1:<3}     1    0.24595     10000\")"
   ]
  },
  {
   "cell_type": "code",
   "execution_count": 177,
   "id": "090cd458",
   "metadata": {},
   "outputs": [
    {
     "data": {
      "text/plain": [
       "48"
      ]
     },
     "execution_count": 177,
     "metadata": {},
     "output_type": "execute_result"
    }
   ],
   "source": [
    "len(bonds(u))"
   ]
  },
  {
   "cell_type": "code",
   "execution_count": 178,
   "id": "31ba31e4",
   "metadata": {},
   "outputs": [
    {
     "data": {
      "text/plain": [
       "[(0, 1),\n",
       " (0, 6),\n",
       " (1, 8),\n",
       " (6, 15),\n",
       " (8, 16),\n",
       " (15, 16),\n",
       " (2, 3),\n",
       " (2, 9),\n",
       " (3, 11),\n",
       " (9, 18),\n",
       " (11, 19),\n",
       " (18, 19),\n",
       " (4, 5),\n",
       " (4, 12),\n",
       " (5, 14),\n",
       " (12, 21),\n",
       " (14, 22),\n",
       " (21, 22),\n",
       " (8, 9),\n",
       " (8, 16),\n",
       " (9, 18),\n",
       " (16, 25),\n",
       " (18, 26),\n",
       " (25, 26),\n",
       " (11, 12),\n",
       " (11, 19),\n",
       " (12, 21),\n",
       " (19, 28),\n",
       " (21, 29),\n",
       " (28, 29),\n",
       " (15, 16),\n",
       " (15, 23),\n",
       " (16, 25),\n",
       " (23, 32),\n",
       " (25, 33),\n",
       " (32, 33),\n",
       " (18, 19),\n",
       " (18, 26),\n",
       " (19, 28),\n",
       " (26, 34),\n",
       " (28, 35),\n",
       " (34, 35),\n",
       " (21, 22),\n",
       " (21, 29),\n",
       " (22, 31),\n",
       " (29, 36),\n",
       " (31, 37),\n",
       " (36, 37)]"
      ]
     },
     "execution_count": 178,
     "metadata": {},
     "output_type": "execute_result"
    }
   ],
   "source": [
    "bonds(u)"
   ]
  },
  {
   "cell_type": "code",
   "execution_count": 180,
   "id": "ad7fb61e",
   "metadata": {},
   "outputs": [],
   "source": [
    "bds = []\n",
    "for i in bonds(u):\n",
    "    if i not in bds:\n",
    "        bds.append(i)"
   ]
  },
  {
   "cell_type": "code",
   "execution_count": 181,
   "id": "b43c5ddd",
   "metadata": {},
   "outputs": [
    {
     "data": {
      "text/plain": [
       "[(0, 1),\n",
       " (0, 6),\n",
       " (1, 8),\n",
       " (6, 15),\n",
       " (8, 16),\n",
       " (15, 16),\n",
       " (2, 3),\n",
       " (2, 9),\n",
       " (3, 11),\n",
       " (9, 18),\n",
       " (11, 19),\n",
       " (18, 19),\n",
       " (4, 5),\n",
       " (4, 12),\n",
       " (5, 14),\n",
       " (12, 21),\n",
       " (14, 22),\n",
       " (21, 22),\n",
       " (8, 9),\n",
       " (16, 25),\n",
       " (18, 26),\n",
       " (25, 26),\n",
       " (11, 12),\n",
       " (19, 28),\n",
       " (21, 29),\n",
       " (28, 29),\n",
       " (15, 23),\n",
       " (23, 32),\n",
       " (25, 33),\n",
       " (32, 33),\n",
       " (26, 34),\n",
       " (28, 35),\n",
       " (34, 35),\n",
       " (22, 31),\n",
       " (29, 36),\n",
       " (31, 37),\n",
       " (36, 37)]"
      ]
     },
     "execution_count": 181,
     "metadata": {},
     "output_type": "execute_result"
    }
   ],
   "source": [
    "bds"
   ]
  },
  {
   "cell_type": "code",
   "execution_count": 182,
   "id": "f5204631",
   "metadata": {},
   "outputs": [
    {
     "data": {
      "text/plain": [
       "37"
      ]
     },
     "execution_count": 182,
     "metadata": {},
     "output_type": "execute_result"
    }
   ],
   "source": [
    "len(bds)"
   ]
  },
  {
   "cell_type": "code",
   "execution_count": 183,
   "id": "b87491cc",
   "metadata": {},
   "outputs": [
    {
     "data": {
      "text/plain": [
       "37"
      ]
     },
     "execution_count": 183,
     "metadata": {},
     "output_type": "execute_result"
    }
   ],
   "source": [
    "48-11"
   ]
  },
  {
   "cell_type": "code",
   "execution_count": 186,
   "id": "48bdcc77",
   "metadata": {},
   "outputs": [
    {
     "data": {
      "text/plain": [
       "37"
      ]
     },
     "execution_count": 186,
     "metadata": {},
     "output_type": "execute_result"
    }
   ],
   "source": [
    "len(bonds(u))"
   ]
  },
  {
   "cell_type": "code",
   "execution_count": null,
   "id": "2dfe59ae",
   "metadata": {},
   "outputs": [],
   "source": [
    "def mass_virtual(universe):\n",
    "    vs = virtual_site1(new_list) + virtual_site2(list_of)\n",
    "    dc = {}\n",
    "    il = []\n",
    "    for i in list_of:\n",
    "        for j in i:\n",
    "            il.append(j)\n",
    "    for i in il:\n",
    "        dc[i] = 36\n",
    "    \n",
    "    for i in range(len(vs)):\n",
    "        dc[vs[i][0]] = 0\n",
    "        \n",
    "    for i in range(len(vs)):\n",
    "        for j, k in dc.items():\n",
    "            if j in vs[i][-2:]:\n",
    "                dc[j] +=18\n",
    "        \n",
    "    return dc"
   ]
  },
  {
   "cell_type": "code",
   "execution_count": 189,
   "id": "a1af7975",
   "metadata": {},
   "outputs": [
    {
     "data": {
      "text/plain": [
       "[[7, 16, 15, 1, 0],\n",
       " [10, 19, 18, 3, 2],\n",
       " [13, 22, 21, 5, 4],\n",
       " [17, 26, 25, 9, 8],\n",
       " [20, 29, 28, 12, 11],\n",
       " [24, 33, 32, 16, 15],\n",
       " [27, 35, 34, 19, 18],\n",
       " [30, 37, 36, 22, 21]]"
      ]
     },
     "execution_count": 189,
     "metadata": {},
     "output_type": "execute_result"
    }
   ],
   "source": [
    "virtual_sites(u)"
   ]
  },
  {
   "cell_type": "code",
   "execution_count": 190,
   "id": "6f7efc9a",
   "metadata": {},
   "outputs": [
    {
     "data": {
      "text/plain": [
       "array([36., 36., 36., 36., 36., 36., 36.,  0., 36., 36.,  0., 36., 36.,\n",
       "        0., 36., 36., 36.,  0., 36., 36.,  0., 36., 36., 36.,  0., 36.,\n",
       "       36.,  0., 36., 36.,  0., 36., 36., 36., 36., 36., 36., 36.])"
      ]
     },
     "execution_count": 190,
     "metadata": {},
     "output_type": "execute_result"
    }
   ],
   "source": [
    "u.atoms.masses"
   ]
  },
  {
   "cell_type": "code",
   "execution_count": 192,
   "id": "a1dd195a",
   "metadata": {},
   "outputs": [],
   "source": [
    "for i in virtual_sites(u):\n",
    "    for j in i[1:]:\n",
    "        u.atoms[j].mass +=9"
   ]
  },
  {
   "cell_type": "code",
   "execution_count": 193,
   "id": "d8767220",
   "metadata": {},
   "outputs": [
    {
     "data": {
      "text/plain": [
       "array([45., 45., 45., 45., 45., 45., 36.,  0., 45., 45.,  0., 45., 45.,\n",
       "        0., 36., 54., 54.,  0., 54., 54.,  0., 54., 54., 36.,  0., 45.,\n",
       "       45.,  0., 45., 45.,  0., 36., 45., 45., 45., 45., 45., 45.])"
      ]
     },
     "execution_count": 193,
     "metadata": {},
     "output_type": "execute_result"
    }
   ],
   "source": [
    "u.atoms.masses"
   ]
  },
  {
   "cell_type": "code",
   "execution_count": 195,
   "id": "28af27ca",
   "metadata": {},
   "outputs": [
    {
     "data": {
      "text/plain": [
       "1368"
      ]
     },
     "execution_count": 195,
     "metadata": {},
     "output_type": "execute_result"
    }
   ],
   "source": [
    "u.atoms.n_atoms * 36"
   ]
  },
  {
   "cell_type": "code",
   "execution_count": 197,
   "id": "75cc27cf",
   "metadata": {},
   "outputs": [
    {
     "data": {
      "text/plain": [
       "1368.0"
      ]
     },
     "execution_count": 197,
     "metadata": {},
     "output_type": "execute_result"
    }
   ],
   "source": [
    "u.atoms.total_mass()"
   ]
  },
  {
   "cell_type": "code",
   "execution_count": 198,
   "id": "0b545945",
   "metadata": {},
   "outputs": [
    {
     "data": {
      "text/plain": [
       "array([ 7, 10, 13, 17, 20, 24, 27, 30])"
      ]
     },
     "execution_count": 198,
     "metadata": {},
     "output_type": "execute_result"
    }
   ],
   "source": [
    "u.atoms[u.atoms.masses == 0].indices"
   ]
  },
  {
   "cell_type": "code",
   "execution_count": 200,
   "id": "476127bf",
   "metadata": {},
   "outputs": [
    {
     "data": {
      "text/plain": [
       "180.0"
      ]
     },
     "execution_count": 200,
     "metadata": {},
     "output_type": "execute_result"
    }
   ],
   "source": [
    "math.degrees(calc_dihedrals(u.atoms[6].position, u.atoms[0].position, u.atoms[15].position, u.atoms[16].position))"
   ]
  },
  {
   "cell_type": "code",
   "execution_count": 201,
   "id": "eee473f4",
   "metadata": {},
   "outputs": [
    {
     "data": {
      "text/plain": [
       "[[0, 1, 6, 8, 15, 16],\n",
       " [2, 3, 9, 11, 18, 19],\n",
       " [4, 5, 12, 14, 21, 22],\n",
       " [8, 9, 16, 18, 25, 26],\n",
       " [11, 12, 19, 21, 28, 29],\n",
       " [15, 16, 23, 25, 32, 33],\n",
       " [18, 19, 26, 28, 34, 35],\n",
       " [21, 22, 29, 31, 36, 37]]"
      ]
     },
     "execution_count": 201,
     "metadata": {},
     "output_type": "execute_result"
    }
   ],
   "source": [
    "hexagon(u)"
   ]
  },
  {
   "cell_type": "code",
   "execution_count": 202,
   "id": "11466808",
   "metadata": {},
   "outputs": [],
   "source": [
    "a= hexagon(u)[0]"
   ]
  },
  {
   "cell_type": "code",
   "execution_count": 203,
   "id": "93d9eb9e",
   "metadata": {},
   "outputs": [
    {
     "data": {
      "text/plain": [
       "[0, 1, 6, 8, 15, 16]"
      ]
     },
     "execution_count": 203,
     "metadata": {},
     "output_type": "execute_result"
    }
   ],
   "source": [
    "a"
   ]
  },
  {
   "cell_type": "code",
   "execution_count": 224,
   "id": "1cb77acc",
   "metadata": {},
   "outputs": [],
   "source": [
    "for i in a:\n",
    "    for j in a:\n",
    "        for k in a:\n",
    "            for l in a:\n",
    "                if math.degrees(calc_dihedrals(u.atoms[i].position, u.atoms[j].position, u.atoms[k].position, u.atoms[l].position)==180.0):\n",
    "                    print((i,j,k,l))       "
   ]
  },
  {
   "cell_type": "code",
   "execution_count": 225,
   "id": "ebf03357",
   "metadata": {},
   "outputs": [
    {
     "name": "stdout",
     "output_type": "stream",
     "text": [
      "[0, 1, 15, 8]\n",
      "[0, 1, 16, 8]\n",
      "[0, 6, 1, 8]\n",
      "[0, 6, 1, 15]\n",
      "[0, 6, 1, 16]\n",
      "[0, 6, 8, 15]\n",
      "[0, 6, 8, 16]\n",
      "[0, 6, 16, 15]\n",
      "[0, 16, 6, 15]\n",
      "[1, 0, 8, 6]\n",
      "[1, 0, 8, 15]\n",
      "[1, 0, 8, 16]\n",
      "[1, 0, 15, 6]\n",
      "[1, 0, 16, 6]\n",
      "[1, 0, 16, 15]\n",
      "[1, 6, 8, 15]\n",
      "[1, 6, 8, 16]\n",
      "[1, 6, 16, 15]\n",
      "[1, 8, 0, 15]\n",
      "[1, 8, 0, 16]\n",
      "[1, 15, 0, 6]\n",
      "[1, 15, 8, 16]\n",
      "[1, 16, 0, 15]\n",
      "[1, 16, 6, 15]\n",
      "[6, 0, 8, 1]\n",
      "[6, 0, 15, 1]\n",
      "[6, 0, 15, 8]\n",
      "[6, 0, 15, 16]\n",
      "[6, 0, 16, 1]\n",
      "[6, 0, 16, 8]\n",
      "[6, 1, 15, 8]\n",
      "[6, 1, 16, 8]\n",
      "[6, 8, 0, 1]\n",
      "[6, 16, 0, 1]\n",
      "[6, 16, 0, 8]\n",
      "[8, 0, 15, 6]\n",
      "[8, 0, 16, 6]\n",
      "[8, 0, 16, 15]\n",
      "[8, 1, 6, 0]\n",
      "[8, 1, 15, 0]\n",
      "[8, 1, 15, 6]\n",
      "[8, 1, 16, 0]\n",
      "[8, 1, 16, 6]\n",
      "[8, 1, 16, 15]\n",
      "[8, 6, 1, 0]\n",
      "[8, 6, 16, 15]\n",
      "[8, 15, 0, 6]\n",
      "[8, 15, 1, 0]\n",
      "[8, 15, 1, 6]\n",
      "[8, 16, 0, 15]\n",
      "[8, 16, 1, 0]\n",
      "[8, 16, 1, 6]\n",
      "[8, 16, 1, 15]\n",
      "[8, 16, 6, 15]\n",
      "[15, 0, 8, 1]\n",
      "[15, 0, 16, 1]\n",
      "[15, 0, 16, 8]\n",
      "[15, 1, 6, 0]\n",
      "[15, 1, 16, 8]\n",
      "[15, 6, 1, 0]\n",
      "[15, 6, 8, 0]\n",
      "[15, 6, 8, 1]\n",
      "[15, 6, 16, 0]\n",
      "[15, 6, 16, 1]\n",
      "[15, 6, 16, 8]\n",
      "[15, 8, 6, 0]\n",
      "[15, 8, 6, 1]\n",
      "[15, 16, 0, 1]\n",
      "[15, 16, 0, 8]\n",
      "[15, 16, 6, 0]\n",
      "[15, 16, 6, 1]\n",
      "[15, 16, 6, 8]\n",
      "[16, 0, 8, 1]\n",
      "[16, 0, 15, 6]\n",
      "[16, 1, 6, 0]\n",
      "[16, 1, 15, 0]\n",
      "[16, 1, 15, 6]\n",
      "[16, 6, 1, 0]\n",
      "[16, 6, 8, 0]\n",
      "[16, 6, 8, 1]\n",
      "[16, 8, 6, 0]\n",
      "[16, 8, 6, 1]\n",
      "[16, 8, 15, 0]\n",
      "[16, 8, 15, 1]\n",
      "[16, 8, 15, 6]\n",
      "[16, 15, 0, 6]\n",
      "[16, 15, 1, 0]\n",
      "[16, 15, 1, 6]\n",
      "[16, 15, 8, 0]\n",
      "[16, 15, 8, 1]\n",
      "[16, 15, 8, 6]\n"
     ]
    }
   ],
   "source": [
    "for i in a:\n",
    "    for j in a:\n",
    "        for k in a:\n",
    "            for l in a:\n",
    "                if int(math.degrees(calc_dihedrals(u.atoms[i].position, u.atoms[j].position, u.atoms[k].position, u.atoms[l].position)) == 180):\n",
    "                    print([i,j,k,l])"
   ]
  },
  {
   "cell_type": "code",
   "execution_count": 239,
   "id": "8096fcfd",
   "metadata": {},
   "outputs": [],
   "source": [
    "hexagons = hexagon(u)"
   ]
  },
  {
   "cell_type": "code",
   "execution_count": 240,
   "id": "5b0c3312",
   "metadata": {},
   "outputs": [
    {
     "data": {
      "text/plain": [
       "[[0, 1, 6, 8, 15, 16],\n",
       " [2, 3, 9, 11, 18, 19],\n",
       " [4, 5, 12, 14, 21, 22],\n",
       " [8, 9, 16, 18, 25, 26],\n",
       " [11, 12, 19, 21, 28, 29],\n",
       " [15, 16, 23, 25, 32, 33],\n",
       " [18, 19, 26, 28, 34, 35],\n",
       " [21, 22, 29, 31, 36, 37]]"
      ]
     },
     "execution_count": 240,
     "metadata": {},
     "output_type": "execute_result"
    }
   ],
   "source": [
    "hexagons"
   ]
  },
  {
   "cell_type": "code",
   "execution_count": 241,
   "id": "cd3ec931",
   "metadata": {},
   "outputs": [],
   "source": [
    "def get_angles(hexagons):\n",
    "    angles = []\n",
    "    for hex in hexagons:\n",
    "        angle1 = [hex[2], hex[4], hex[0], hex[5]]\n",
    "        angle2 = [hex[4], hex[0], hex[5], hex[1]]\n",
    "        angle3 = [hex[0], hex[5], hex[1], hex[3]]\n",
    "        angles.append(angle1)\n",
    "        angles.append(angle2)\n",
    "        angles.append(angle3)\n",
    "    return angles"
   ]
  },
  {
   "cell_type": "code",
   "execution_count": 242,
   "id": "99cb68e0",
   "metadata": {},
   "outputs": [
    {
     "data": {
      "text/plain": [
       "[[6, 15, 0, 16],\n",
       " [15, 0, 16, 1],\n",
       " [0, 16, 1, 8],\n",
       " [9, 18, 2, 19],\n",
       " [18, 2, 19, 3],\n",
       " [2, 19, 3, 11],\n",
       " [12, 21, 4, 22],\n",
       " [21, 4, 22, 5],\n",
       " [4, 22, 5, 14],\n",
       " [16, 25, 8, 26],\n",
       " [25, 8, 26, 9],\n",
       " [8, 26, 9, 18],\n",
       " [19, 28, 11, 29],\n",
       " [28, 11, 29, 12],\n",
       " [11, 29, 12, 21],\n",
       " [23, 32, 15, 33],\n",
       " [32, 15, 33, 16],\n",
       " [15, 33, 16, 25],\n",
       " [26, 34, 18, 35],\n",
       " [34, 18, 35, 19],\n",
       " [18, 35, 19, 28],\n",
       " [29, 36, 21, 37],\n",
       " [36, 21, 37, 22],\n",
       " [21, 37, 22, 31]]"
      ]
     },
     "execution_count": 242,
     "metadata": {},
     "output_type": "execute_result"
    }
   ],
   "source": [
    "angles = get_angles(hexagons)\n",
    "angles"
   ]
  },
  {
   "cell_type": "code",
   "execution_count": 243,
   "id": "4870531d",
   "metadata": {},
   "outputs": [],
   "source": [
    "def get_between_hexagons_angles(hexagons, beads_per_row = 6):\n",
    "    def get_common_side(hexa1, hexa2):\n",
    "        common = list(set(hexa1).intersection(set(hexa2)))\n",
    "        common.sort()\n",
    "        return common\n",
    "    \n",
    "    angles = []\n",
    "    gap_for_above = int(beads_per_row / 2)\n",
    "    for i in range(len(hexagons)):\n",
    "        hexa = hexagons[i]\n",
    "        try:\n",
    "            hexa_after = hexagons[i+2]\n",
    "        except IndexError:\n",
    "            hexa_after = None\n",
    "        try: \n",
    "            hexa_above = hexagons[i+gap_for_above]\n",
    "        except IndexError:\n",
    "            hexa_above = None\n",
    "        \n",
    "        try: \n",
    "            hexa_before = hexagons[i - 1]\n",
    "        except IndexError:\n",
    "            hexa_before = None\n",
    "        \n",
    "        if hexa_after:\n",
    "            side_after = get_common_side(hexa, hexa_after)\n",
    "            if side_after:\n",
    "                idx1 = hexa.index(side_after[0])\n",
    "                idx2 = hexa_after.index(side_after[1])\n",
    "                angle = [hexa[idx1 - 2], side_after[0], side_after[1], hexa_after[idx2 + 2]]\n",
    "                angles.append(angle)\n",
    "            \n",
    "        \n",
    "        if hexa_above: \n",
    "            side_above = get_common_side(hexa, hexa_above)\n",
    "            if side_above: \n",
    "                idx1 = hexa.index(side_above[0])\n",
    "                idx2 = hexa_above.index(side_above[1])\n",
    "                angle = [hexa[idx1 - 4], side_above[0], side_above[1], hexa_above[idx2 + 4]]\n",
    "                angles.append(angle)  \n",
    "                \n",
    "        if hexa_before:\n",
    "            side_before = get_common_side(hexa, hexa_before)\n",
    "            if side_before:\n",
    "                idx1 = hexa_before.index(side_before[0])\n",
    "                idx2 = hexa.index(side_before[1])\n",
    "                angle = [hexa_before[idx1 - 2], side_before[0], side_before[1], hexa[idx2 + 2]]\n",
    "                angles.append(angle)\n",
    "    return angles"
   ]
  },
  {
   "cell_type": "code",
   "execution_count": 244,
   "id": "ac6882df",
   "metadata": {},
   "outputs": [
    {
     "ename": "IndexError",
     "evalue": "list index out of range",
     "output_type": "error",
     "traceback": [
      "\u001b[0;31m---------------------------------------------------------------------------\u001b[0m",
      "\u001b[0;31mIndexError\u001b[0m                                Traceback (most recent call last)",
      "\u001b[0;32m/tmp/ipykernel_3277539/916395879.py\u001b[0m in \u001b[0;36m<module>\u001b[0;34m\u001b[0m\n\u001b[0;32m----> 1\u001b[0;31m \u001b[0mother_angles\u001b[0m \u001b[0;34m=\u001b[0m \u001b[0mget_between_hexagons_angles\u001b[0m\u001b[0;34m(\u001b[0m\u001b[0mhexagons\u001b[0m\u001b[0;34m)\u001b[0m\u001b[0;34m\u001b[0m\u001b[0;34m\u001b[0m\u001b[0m\n\u001b[0m",
      "\u001b[0;32m/tmp/ipykernel_3277539/4118184085.py\u001b[0m in \u001b[0;36mget_between_hexagons_angles\u001b[0;34m(hexagons, beads_per_row)\u001b[0m\n\u001b[1;32m     37\u001b[0m                 \u001b[0midx1\u001b[0m \u001b[0;34m=\u001b[0m \u001b[0mhexa\u001b[0m\u001b[0;34m.\u001b[0m\u001b[0mindex\u001b[0m\u001b[0;34m(\u001b[0m\u001b[0mside_above\u001b[0m\u001b[0;34m[\u001b[0m\u001b[0;36m0\u001b[0m\u001b[0;34m]\u001b[0m\u001b[0;34m)\u001b[0m\u001b[0;34m\u001b[0m\u001b[0;34m\u001b[0m\u001b[0m\n\u001b[1;32m     38\u001b[0m                 \u001b[0midx2\u001b[0m \u001b[0;34m=\u001b[0m \u001b[0mhexa_above\u001b[0m\u001b[0;34m.\u001b[0m\u001b[0mindex\u001b[0m\u001b[0;34m(\u001b[0m\u001b[0mside_above\u001b[0m\u001b[0;34m[\u001b[0m\u001b[0;36m1\u001b[0m\u001b[0;34m]\u001b[0m\u001b[0;34m)\u001b[0m\u001b[0;34m\u001b[0m\u001b[0;34m\u001b[0m\u001b[0m\n\u001b[0;32m---> 39\u001b[0;31m                 \u001b[0mangle\u001b[0m \u001b[0;34m=\u001b[0m \u001b[0;34m[\u001b[0m\u001b[0mhexa\u001b[0m\u001b[0;34m[\u001b[0m\u001b[0midx1\u001b[0m \u001b[0;34m-\u001b[0m \u001b[0;36m4\u001b[0m\u001b[0;34m]\u001b[0m\u001b[0;34m,\u001b[0m \u001b[0mside_above\u001b[0m\u001b[0;34m[\u001b[0m\u001b[0;36m0\u001b[0m\u001b[0;34m]\u001b[0m\u001b[0;34m,\u001b[0m \u001b[0mside_above\u001b[0m\u001b[0;34m[\u001b[0m\u001b[0;36m1\u001b[0m\u001b[0;34m]\u001b[0m\u001b[0;34m,\u001b[0m \u001b[0mhexa_above\u001b[0m\u001b[0;34m[\u001b[0m\u001b[0midx2\u001b[0m \u001b[0;34m+\u001b[0m \u001b[0;36m4\u001b[0m\u001b[0;34m]\u001b[0m\u001b[0;34m]\u001b[0m\u001b[0;34m\u001b[0m\u001b[0;34m\u001b[0m\u001b[0m\n\u001b[0m\u001b[1;32m     40\u001b[0m                 \u001b[0mangles\u001b[0m\u001b[0;34m.\u001b[0m\u001b[0mappend\u001b[0m\u001b[0;34m(\u001b[0m\u001b[0mangle\u001b[0m\u001b[0;34m)\u001b[0m\u001b[0;34m\u001b[0m\u001b[0;34m\u001b[0m\u001b[0m\n\u001b[1;32m     41\u001b[0m \u001b[0;34m\u001b[0m\u001b[0m\n",
      "\u001b[0;31mIndexError\u001b[0m: list index out of range"
     ]
    }
   ],
   "source": [
    "other_angles = get_between_hexagons_angles(hexagons)"
   ]
  },
  {
   "cell_type": "code",
   "execution_count": 235,
   "id": "fde0ed2c",
   "metadata": {},
   "outputs": [
    {
     "data": {
      "text/plain": [
       "[[2, 9, 18, 26], [4, 12, 21, 29], [8, 16, 25, 33], [11, 19, 28, 35]]"
      ]
     },
     "execution_count": 235,
     "metadata": {},
     "output_type": "execute_result"
    }
   ],
   "source": [
    "other_angles"
   ]
  },
  {
   "cell_type": "code",
   "execution_count": 238,
   "id": "f217b62f",
   "metadata": {},
   "outputs": [
    {
     "ename": "IndexError",
     "evalue": "list index out of range",
     "output_type": "error",
     "traceback": [
      "\u001b[0;31m---------------------------------------------------------------------------\u001b[0m",
      "\u001b[0;31mIndexError\u001b[0m                                Traceback (most recent call last)",
      "\u001b[0;32m/tmp/ipykernel_3277539/1732548536.py\u001b[0m in \u001b[0;36m<module>\u001b[0;34m\u001b[0m\n\u001b[0;32m----> 1\u001b[0;31m \u001b[0mget_between_hexagons_angles\u001b[0m\u001b[0;34m(\u001b[0m\u001b[0mhexagons\u001b[0m\u001b[0;34m)\u001b[0m\u001b[0;34m\u001b[0m\u001b[0;34m\u001b[0m\u001b[0m\n\u001b[0m",
      "\u001b[0;32m/tmp/ipykernel_3277539/4118184085.py\u001b[0m in \u001b[0;36mget_between_hexagons_angles\u001b[0;34m(hexagons, beads_per_row)\u001b[0m\n\u001b[1;32m     37\u001b[0m                 \u001b[0midx1\u001b[0m \u001b[0;34m=\u001b[0m \u001b[0mhexa\u001b[0m\u001b[0;34m.\u001b[0m\u001b[0mindex\u001b[0m\u001b[0;34m(\u001b[0m\u001b[0mside_above\u001b[0m\u001b[0;34m[\u001b[0m\u001b[0;36m0\u001b[0m\u001b[0;34m]\u001b[0m\u001b[0;34m)\u001b[0m\u001b[0;34m\u001b[0m\u001b[0;34m\u001b[0m\u001b[0m\n\u001b[1;32m     38\u001b[0m                 \u001b[0midx2\u001b[0m \u001b[0;34m=\u001b[0m \u001b[0mhexa_above\u001b[0m\u001b[0;34m.\u001b[0m\u001b[0mindex\u001b[0m\u001b[0;34m(\u001b[0m\u001b[0mside_above\u001b[0m\u001b[0;34m[\u001b[0m\u001b[0;36m1\u001b[0m\u001b[0;34m]\u001b[0m\u001b[0;34m)\u001b[0m\u001b[0;34m\u001b[0m\u001b[0;34m\u001b[0m\u001b[0m\n\u001b[0;32m---> 39\u001b[0;31m                 \u001b[0mangle\u001b[0m \u001b[0;34m=\u001b[0m \u001b[0;34m[\u001b[0m\u001b[0mhexa\u001b[0m\u001b[0;34m[\u001b[0m\u001b[0midx1\u001b[0m \u001b[0;34m-\u001b[0m \u001b[0;36m4\u001b[0m\u001b[0;34m]\u001b[0m\u001b[0;34m,\u001b[0m \u001b[0mside_above\u001b[0m\u001b[0;34m[\u001b[0m\u001b[0;36m0\u001b[0m\u001b[0;34m]\u001b[0m\u001b[0;34m,\u001b[0m \u001b[0mside_above\u001b[0m\u001b[0;34m[\u001b[0m\u001b[0;36m1\u001b[0m\u001b[0;34m]\u001b[0m\u001b[0;34m,\u001b[0m \u001b[0mhexa_above\u001b[0m\u001b[0;34m[\u001b[0m\u001b[0midx2\u001b[0m \u001b[0;34m+\u001b[0m \u001b[0;36m4\u001b[0m\u001b[0;34m]\u001b[0m\u001b[0;34m]\u001b[0m\u001b[0;34m\u001b[0m\u001b[0;34m\u001b[0m\u001b[0m\n\u001b[0m\u001b[1;32m     40\u001b[0m                 \u001b[0mangles\u001b[0m\u001b[0;34m.\u001b[0m\u001b[0mappend\u001b[0m\u001b[0;34m(\u001b[0m\u001b[0mangle\u001b[0m\u001b[0;34m)\u001b[0m\u001b[0;34m\u001b[0m\u001b[0;34m\u001b[0m\u001b[0m\n\u001b[1;32m     41\u001b[0m \u001b[0;34m\u001b[0m\u001b[0m\n",
      "\u001b[0;31mIndexError\u001b[0m: list index out of range"
     ]
    }
   ],
   "source": [
    "get_between_hexagons_angles(hexagons)"
   ]
  },
  {
   "cell_type": "code",
   "execution_count": 245,
   "id": "69bc8579",
   "metadata": {},
   "outputs": [
    {
     "data": {
      "text/plain": [
       "[[0, 1, 6, 8, 15, 16],\n",
       " [2, 3, 9, 11, 18, 19],\n",
       " [4, 5, 12, 14, 21, 22],\n",
       " [8, 9, 16, 18, 25, 26],\n",
       " [11, 12, 19, 21, 28, 29],\n",
       " [15, 16, 23, 25, 32, 33],\n",
       " [18, 19, 26, 28, 34, 35],\n",
       " [21, 22, 29, 31, 36, 37]]"
      ]
     },
     "execution_count": 245,
     "metadata": {},
     "output_type": "execute_result"
    }
   ],
   "source": [
    "hexagons"
   ]
  },
  {
   "cell_type": "code",
   "execution_count": 246,
   "id": "4cd7e0cc",
   "metadata": {},
   "outputs": [],
   "source": [
    "def dihedral(universe):\n",
    "    angles = []\n",
    "    for hex in hexagon(universe):\n",
    "        angle1 = [hex[2], hex[4], hex[0], hex[5]]\n",
    "        angle2 = [hex[4], hex[0], hex[5], hex[1]]\n",
    "        angle3 = [hex[0], hex[5], hex[1], hex[3]]\n",
    "        angles.append(angle1)\n",
    "        angles.append(angle2)\n",
    "        angles.append(angle3)\n",
    "    return angles"
   ]
  },
  {
   "cell_type": "code",
   "execution_count": 247,
   "id": "869ac5a6",
   "metadata": {},
   "outputs": [
    {
     "data": {
      "text/plain": [
       "[[6, 15, 0, 16],\n",
       " [15, 0, 16, 1],\n",
       " [0, 16, 1, 8],\n",
       " [9, 18, 2, 19],\n",
       " [18, 2, 19, 3],\n",
       " [2, 19, 3, 11],\n",
       " [12, 21, 4, 22],\n",
       " [21, 4, 22, 5],\n",
       " [4, 22, 5, 14],\n",
       " [16, 25, 8, 26],\n",
       " [25, 8, 26, 9],\n",
       " [8, 26, 9, 18],\n",
       " [19, 28, 11, 29],\n",
       " [28, 11, 29, 12],\n",
       " [11, 29, 12, 21],\n",
       " [23, 32, 15, 33],\n",
       " [32, 15, 33, 16],\n",
       " [15, 33, 16, 25],\n",
       " [26, 34, 18, 35],\n",
       " [34, 18, 35, 19],\n",
       " [18, 35, 19, 28],\n",
       " [29, 36, 21, 37],\n",
       " [36, 21, 37, 22],\n",
       " [21, 37, 22, 31]]"
      ]
     },
     "execution_count": 247,
     "metadata": {},
     "output_type": "execute_result"
    }
   ],
   "source": [
    "dihedral(u)"
   ]
  },
  {
   "cell_type": "code",
   "execution_count": 248,
   "id": "a8aae7d3",
   "metadata": {},
   "outputs": [
    {
     "data": {
      "text/plain": [
       "24"
      ]
     },
     "execution_count": 248,
     "metadata": {},
     "output_type": "execute_result"
    }
   ],
   "source": [
    "len(dihedral(u))"
   ]
  },
  {
   "cell_type": "code",
   "execution_count": 277,
   "id": "1244133e",
   "metadata": {},
   "outputs": [
    {
     "name": "stdout",
     "output_type": "stream",
     "text": [
      "1\n",
      "[8, 16]\n",
      "25\n",
      "\n",
      "0\n",
      "16 15\n",
      "33\n",
      "\n",
      "2\n",
      "18 19\n",
      "35\n",
      "\n",
      "4\n",
      "21 22\n",
      "37\n",
      "\n",
      "9\n",
      "[8, 16]\n",
      "15\n",
      "\n",
      "9\n",
      "[18, 26]\n",
      "34\n",
      "\n",
      "15\n",
      "16 15\n",
      "16\n",
      "\n",
      "18\n",
      "18 19\n",
      "19\n",
      "\n",
      "19\n",
      "[18, 26]\n",
      "25\n",
      "\n",
      "21\n",
      "21 22\n",
      "22\n",
      "\n"
     ]
    }
   ],
   "source": [
    "for hex1 in hexagon(u):\n",
    "    for hex2 in hexagon(u):\n",
    "        if len(set(hex1).intersection(hex2)) == 2:\n",
    "            \n",
    "            ab = list(set(hex1).intersection(hex2))\n",
    "            if int(u.atoms[ab[0]].position[1]) == int(u.atoms[ab[1]].position[1]):\n",
    "                print(hex1[0])\n",
    "                print(*ab)\n",
    "                print(hex2[5])\n",
    "                print()\n",
    "            else:\n",
    "                if u.atoms[ab[0]].position[0] > u.atoms[ab[1]].position[0]:\n",
    "                           print(hex1[1])\n",
    "                           print(ab)\n",
    "                           print(hex2[4])\n",
    "                           print()\n",
    "    \n",
    "            \n",
    "        \n",
    "        "
   ]
  },
  {
   "cell_type": "code",
   "execution_count": 278,
   "id": "4a19642f",
   "metadata": {},
   "outputs": [
    {
     "name": "stdout",
     "output_type": "stream",
     "text": [
      "/usr/local/lib/vmd/vmd_LINUXAMD64: /usr/lib/x86_64-linux-gnu/libGL.so.1: no version information available (required by /usr/local/lib/vmd/vmd_LINUXAMD64)\n",
      "Info) VMD for LINUXAMD64, version 1.9.3 (November 30, 2016)\n",
      "Info) http://www.ks.uiuc.edu/Research/vmd/                         \n",
      "Info) Email questions and bug reports to vmd@ks.uiuc.edu           \n",
      "Info) Please include this reference in published work using VMD:   \n",
      "Info)    Humphrey, W., Dalke, A. and Schulten, K., `VMD - Visual   \n",
      "Info)    Molecular Dynamics', J. Molec. Graphics 1996, 14.1, 33-38.\n",
      "Info) -------------------------------------------------------------\n",
      "Info) Multithreading available, 32 CPUs detected.\n",
      "Info)   CPU features: SSE2 AVX AVX2 FMA KNL:AVX-512F+CD+ER+PF \n",
      "Info) Free system memory: 37GB (58%)\n",
      "Info) Creating CUDA device pool and initializing hardware...\n",
      "Info) Detected 1 available CUDA accelerator:\n",
      "Info) [0] NVIDIA GeForce GTX 1080 20 SM_6.1 @ 1.73 GHz, 7.9GB RAM, KTO, AE2, ZCP\n",
      "Warning) Detected X11 'Composite' extension: if incorrect display occurs\n",
      "Warning) try disabling this X server option.  Most OpenGL drivers\n",
      "Warning) disable stereoscopic display when 'Composite' is enabled.\n",
      "Info) OpenGL renderer: NVIDIA GeForce GTX 1080/PCIe/SSE2\n",
      "Info)   Features: STENCIL MSAA(4) MDE CVA MTX NPOT PP PS GLSL(OVFGS) \n",
      "Info)   Full GLSL rendering mode is available.\n",
      "Info)   Textures: 2-D (32768x32768), 3-D (16384x16384x16384), Multitexture (4)\n",
      "Info) Detected 1 available TachyonL/OptiX ray tracing accelerator\n",
      "Info)   Compiling 1 OptiX shaders on 1 target GPU...\n",
      "Info) Dynamically loaded 2 plugins in directory:\n",
      "Info) /usr/local/lib/vmd/plugins/LINUXAMD64/molfile\n",
      "Info) File loading in progress, please wait.\n",
      "Info) Using plugin gro for structure file input.gro\n",
      "Info) Using plugin gro for coordinates from file input.gro\n",
      "Info) Determining bond structure from distance search ...\n",
      "Info) Finished with coordinate file input.gro.\n",
      "Info) Analyzing structure ...\n",
      "Info)    Atoms: 1592\n",
      "Info)    Bonds: 0\n",
      "Info)    Angles: 0  Dihedrals: 0  Impropers: 0  Cross-terms: 0\n",
      "Info)    Bondtypes: 0  Angletypes: 0  Dihedraltypes: 0  Impropertypes: 0\n",
      "Info)    Residues: 1592\n",
      "Info)    Waters: 0\n",
      "Info)    Segments: 1\n",
      "Info)    Fragments: 1592   Protein: 0   Nucleic: 0\n",
      "vmd > Info) VMD for LINUXAMD64, version 1.9.3 (November 30, 2016)\n",
      "Info) Exiting normally.\n"
     ]
    }
   ],
   "source": [
    "!vmd input.gro"
   ]
  },
  {
   "cell_type": "code",
   "execution_count": 279,
   "id": "9e887916",
   "metadata": {},
   "outputs": [
    {
     "name": "stderr",
     "output_type": "stream",
     "text": [
      "/home/rshrestha/.local/lib/python3.9/site-packages/MDAnalysis/coordinates/GRO.py:480: UserWarning: missing dimension - setting unit cell to zeroed box [0., 0., 0.]\n",
      "  warnings.warn(wmsg)\n"
     ]
    }
   ],
   "source": [
    "u.atoms.write('file.gro')"
   ]
  },
  {
   "cell_type": "code",
   "execution_count": 283,
   "id": "f76a71d0",
   "metadata": {},
   "outputs": [
    {
     "name": "stdout",
     "output_type": "stream",
     "text": [
      "[8, 16]\n",
      "[0, 1, 6, 8, 15, 16]\n",
      "[8, 16]\n",
      "[8, 9, 16, 18, 25, 26]\n",
      "\n",
      "[16, 15]\n",
      "[0, 1, 6, 8, 15, 16]\n",
      "[16, 15]\n",
      "[15, 16, 23, 25, 32, 33]\n",
      "\n",
      "[9, 18]\n",
      "[19, 11]\n",
      "[18, 19]\n",
      "[12, 21]\n",
      "[21, 22]\n",
      "[8, 16]\n",
      "[8, 9, 16, 18, 25, 26]\n",
      "[8, 16]\n",
      "[0, 1, 6, 8, 15, 16]\n",
      "\n",
      "[9, 18]\n",
      "[16, 25]\n",
      "[18, 26]\n",
      "[8, 9, 16, 18, 25, 26]\n",
      "[18, 26]\n",
      "[18, 19, 26, 28, 34, 35]\n",
      "\n",
      "[19, 11]\n",
      "[12, 21]\n",
      "[19, 28]\n",
      "[29, 21]\n",
      "[16, 15]\n",
      "[15, 16, 23, 25, 32, 33]\n",
      "[16, 15]\n",
      "[0, 1, 6, 8, 15, 16]\n",
      "\n",
      "[16, 25]\n",
      "[18, 19]\n",
      "[18, 26]\n",
      "[18, 19, 26, 28, 34, 35]\n",
      "[18, 26]\n",
      "[8, 9, 16, 18, 25, 26]\n",
      "\n",
      "[19, 28]\n",
      "[21, 22]\n",
      "[29, 21]\n"
     ]
    }
   ],
   "source": [
    "for hex1 in hexagon(u):\n",
    "    for hex2 in hexagon(u):\n",
    "        if len(set(hex1).intersection(hex2)) == 2:\n",
    "            \n",
    "            ab = list(set(hex1).intersection(hex2))\n",
    "            print(ab)\n",
    "            if u.atoms[ab[0]].position[0] > u.atoms[ab[1]].position[0]:\n",
    "                           print(hex1)\n",
    "                           print(ab)\n",
    "                           print(hex2)\n",
    "                           print()\n",
    "    "
   ]
  },
  {
   "cell_type": "code",
   "execution_count": 282,
   "id": "7fe75773",
   "metadata": {},
   "outputs": [
    {
     "data": {
      "text/plain": [
       "[29, 21]"
      ]
     },
     "execution_count": 282,
     "metadata": {},
     "output_type": "execute_result"
    }
   ],
   "source": [
    "ab"
   ]
  },
  {
   "cell_type": "code",
   "execution_count": 296,
   "id": "e267f01c",
   "metadata": {},
   "outputs": [],
   "source": [
    "ly = []\n",
    "for hex1 in hexagon(u):\n",
    "    for hex2 in hexagon(u):\n",
    "        if len(set(hex1).intersection(hex2)) == 2:\n",
    "            \n",
    "            ab = list(set(hex1).intersection(hex2))\n",
    "          \n",
    "            if int(u.atoms[ab[0]].position[1]) == int(u.atoms[ab[1]].position[1]):\n",
    "                if ab not in ly:\n",
    "                    ab.insert(0,hex1[0])\n",
    "                    ab.append(hex2[5])\n",
    "                    ly.append(ab)\n",
    "            \n",
    "    "
   ]
  },
  {
   "cell_type": "code",
   "execution_count": 297,
   "id": "04b58aec",
   "metadata": {},
   "outputs": [
    {
     "data": {
      "text/plain": [
       "[[0, 16, 15, 33],\n",
       " [2, 18, 19, 35],\n",
       " [4, 21, 22, 37],\n",
       " [15, 16, 15, 16],\n",
       " [18, 18, 19, 19],\n",
       " [21, 21, 22, 22]]"
      ]
     },
     "execution_count": 297,
     "metadata": {},
     "output_type": "execute_result"
    }
   ],
   "source": [
    "ly"
   ]
  },
  {
   "cell_type": "code",
   "execution_count": 300,
   "id": "98f3592a",
   "metadata": {},
   "outputs": [
    {
     "name": "stdout",
     "output_type": "stream",
     "text": [
      "[16, 15]\n",
      "[18, 19]\n",
      "[21, 22]\n",
      "[16, 15]\n",
      "[18, 19]\n",
      "[21, 22]\n"
     ]
    }
   ],
   "source": [
    "for hex1 in hexagon(u):\n",
    "    for hex2 in hexagon(u):\n",
    "        if hex1 != hex2:\n",
    "            if len(set(hex1).intersection(hex2)) == 2:\n",
    "                ab = list(set(hex1).intersection(hex2))\n",
    "                if int(u.atoms[ab[0]].position[1]) == int(u.atoms[ab[1]].position[1]):\n",
    "                    print(ab)\n",
    "                \n",
    "            \n",
    "    "
   ]
  },
  {
   "cell_type": "code",
   "execution_count": 315,
   "id": "5358e54b",
   "metadata": {},
   "outputs": [],
   "source": [
    "ly = []\n",
    "for hex1 in hexagon(u):\n",
    "    for hex2 in hexagon(u):\n",
    "        ab = list(set(hex1).intersection(hex2))\n",
    "        if len(ab) == 2:\n",
    "            \n",
    "            if int(u.atoms[ab[0]].position[1]) == int(u.atoms[ab[1]].position[1]):\n",
    "                if ab not in ly:\n",
    "                    ly.append(ab)\n",
    "\n",
    "\n",
    "                \n",
    "            \n",
    "    "
   ]
  },
  {
   "cell_type": "code",
   "execution_count": 316,
   "id": "e2987d20",
   "metadata": {},
   "outputs": [
    {
     "data": {
      "text/plain": [
       "[[16, 15], [18, 19], [21, 22]]"
      ]
     },
     "execution_count": 316,
     "metadata": {},
     "output_type": "execute_result"
    }
   ],
   "source": [
    "ly"
   ]
  },
  {
   "cell_type": "code",
   "execution_count": null,
   "id": "51a267f5",
   "metadata": {},
   "outputs": [],
   "source": []
  }
 ],
 "metadata": {
  "kernelspec": {
   "display_name": "Python 3 (ipykernel)",
   "language": "python",
   "name": "python3"
  },
  "language_info": {
   "codemirror_mode": {
    "name": "ipython",
    "version": 3
   },
   "file_extension": ".py",
   "mimetype": "text/x-python",
   "name": "python",
   "nbconvert_exporter": "python",
   "pygments_lexer": "ipython3",
   "version": "3.9.7"
  }
 },
 "nbformat": 4,
 "nbformat_minor": 5
}
