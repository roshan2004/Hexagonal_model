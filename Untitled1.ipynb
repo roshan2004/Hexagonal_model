{
 "cells": [
  {
   "cell_type": "code",
   "execution_count": 5,
   "id": "e8dde834",
   "metadata": {},
   "outputs": [],
   "source": [
    "import numpy as np\n",
    "import MDAnalysis as mda\n",
    "from MDAnalysis.lib.distances import calc_angles, calc_bonds, calc_dihedrals"
   ]
  },
  {
   "cell_type": "code",
   "execution_count": 9,
   "id": "3f7dd34a",
   "metadata": {},
   "outputs": [
    {
     "name": "stderr",
     "output_type": "stream",
     "text": [
      "/home/rshrestha/.local/lib/python3.9/site-packages/MDAnalysis/topology/guessers.py:146: UserWarning: Failed to guess the mass for the following atom types: X\n",
      "  warnings.warn(\"Failed to guess the mass for the following atom types: {}\".format(atom_type))\n",
      "/home/rshrestha/.local/lib/python3.9/site-packages/MDAnalysis/coordinates/GRO.py:229: UserWarning: Empty box [0., 0., 0.] found - treating as missing unit cell. Dimensions set to `None`.\n",
      "  warnings.warn(wmsg)\n"
     ]
    }
   ],
   "source": [
    "u = mda.Universe('input.gro')\n",
    "c = np.unique(u.atoms.positions[:,1])\n",
    "u.atoms.masses = 36"
   ]
  },
  {
   "cell_type": "code",
   "execution_count": 91,
   "id": "767dc118",
   "metadata": {},
   "outputs": [],
   "source": [
    "for j in range(len(c)): # Looping through each row, defined by the y-coordinate\n",
    "    if (j !=0) and (j !=len(c)-1):\n",
    "        if j % 2 !=0:\n",
    "            group = u.atoms[u.atoms.positions[:,1] == c[j]]\n",
    "            gr = np.arange(1, len(group), 3)\n",
    "            for k in gr:\n",
    "                u.atoms[group[k].index].mass = 0\n",
    "            \n",
    "        else:\n",
    "            group = u.atoms[u.atoms.positions[:,1] == c[j]]\n",
    "            gr = np.arange(2, len(group), 3)\n",
    "            for k in gr:\n",
    "                u.atoms[group[k].index].mass = 0"
   ]
  },
  {
   "cell_type": "code",
   "execution_count": 92,
   "id": "4b5840b7",
   "metadata": {},
   "outputs": [],
   "source": [
    "def hexagon(universe):\n",
    "    \n",
    "    ''' Identifying the vertics of hexagon around a virtual site '''\n",
    "    \n",
    "    b = u.atoms[u.atoms.masses == 0].indices\n",
    "    hexagon_indices = []\n",
    "    for i in b:\n",
    "        empty = []\n",
    "        for j in u.atoms.indices:\n",
    "            if (2.55 <= calc_bonds(u.atoms[j].position, u.atoms[i].position) <= 2.57):\n",
    "                empty.append(j)\n",
    "        hexagon_indices.append(empty)\n",
    "    return hexagon_indices"
   ]
  },
  {
   "cell_type": "code",
   "execution_count": 14,
   "id": "b747796a",
   "metadata": {},
   "outputs": [],
   "source": [
    "b = u.atoms[u.atoms.masses == 0].indices"
   ]
  },
  {
   "cell_type": "code",
   "execution_count": 15,
   "id": "d1fa4e84",
   "metadata": {},
   "outputs": [
    {
     "data": {
      "text/plain": [
       "array([ 7, 10, 13, 17, 20, 24, 27, 30])"
      ]
     },
     "execution_count": 15,
     "metadata": {},
     "output_type": "execute_result"
    }
   ],
   "source": [
    "b"
   ]
  },
  {
   "cell_type": "code",
   "execution_count": 17,
   "id": "6dccdd85",
   "metadata": {},
   "outputs": [
    {
     "data": {
      "text/plain": [
       "[[0, 1, 6, 8, 15, 16],\n",
       " [2, 3, 9, 11, 18, 19],\n",
       " [4, 5, 12, 14, 21, 22],\n",
       " [8, 9, 16, 18, 25, 26],\n",
       " [11, 12, 19, 21, 28, 29],\n",
       " [15, 16, 23, 25, 32, 33],\n",
       " [18, 19, 26, 28, 34, 35],\n",
       " [21, 22, 29, 31, 36, 37]]"
      ]
     },
     "execution_count": 17,
     "metadata": {},
     "output_type": "execute_result"
    }
   ],
   "source": [
    "hexagon(u)"
   ]
  },
  {
   "cell_type": "code",
   "execution_count": 18,
   "id": "9e344f9c",
   "metadata": {},
   "outputs": [],
   "source": [
    "def bonds(universe):\n",
    "    ''' Returns the list of pair of indices for which bonds are defined '''\n",
    "    list_of_bonds = []\n",
    "    for element in hexagon(u):\n",
    "        for i in element:\n",
    "            for j in element:\n",
    "                if i < j:\n",
    "                    if (2.55 <= calc_bonds(u.atoms[j].position, u.atoms[i].position) <= 2.57):\n",
    "                        list_of_bonds.append((i,j))\n",
    "    return list_of_bonds"
   ]
  },
  {
   "cell_type": "code",
   "execution_count": 30,
   "id": "8d6dca1c",
   "metadata": {},
   "outputs": [
    {
     "name": "stdout",
     "output_type": "stream",
     "text": [
      "  1         2         1     0.256     20000\n",
      "  1         7         1     0.256     20000\n",
      "  2         9         1     0.256     20000\n",
      "  7         16        1     0.256     20000\n",
      "  9         17        1     0.256     20000\n",
      "  16        17        1     0.256     20000\n",
      "  3         4         1     0.256     20000\n",
      "  3         10        1     0.256     20000\n",
      "  4         12        1     0.256     20000\n",
      "  10        19        1     0.256     20000\n",
      "  12        20        1     0.256     20000\n",
      "  19        20        1     0.256     20000\n",
      "  5         6         1     0.256     20000\n",
      "  5         13        1     0.256     20000\n",
      "  6         15        1     0.256     20000\n",
      "  13        22        1     0.256     20000\n",
      "  15        23        1     0.256     20000\n",
      "  22        23        1     0.256     20000\n",
      "  9         10        1     0.256     20000\n",
      "  9         17        1     0.256     20000\n",
      "  10        19        1     0.256     20000\n",
      "  17        26        1     0.256     20000\n",
      "  19        27        1     0.256     20000\n",
      "  26        27        1     0.256     20000\n",
      "  12        13        1     0.256     20000\n",
      "  12        20        1     0.256     20000\n",
      "  13        22        1     0.256     20000\n",
      "  20        29        1     0.256     20000\n",
      "  22        30        1     0.256     20000\n",
      "  29        30        1     0.256     20000\n",
      "  16        17        1     0.256     20000\n",
      "  16        24        1     0.256     20000\n",
      "  17        26        1     0.256     20000\n",
      "  24        33        1     0.256     20000\n",
      "  26        34        1     0.256     20000\n",
      "  33        34        1     0.256     20000\n",
      "  19        20        1     0.256     20000\n",
      "  19        27        1     0.256     20000\n",
      "  20        29        1     0.256     20000\n",
      "  27        35        1     0.256     20000\n",
      "  29        36        1     0.256     20000\n",
      "  35        36        1     0.256     20000\n",
      "  22        23        1     0.256     20000\n",
      "  22        30        1     0.256     20000\n",
      "  23        32        1     0.256     20000\n",
      "  30        37        1     0.256     20000\n",
      "  32        38        1     0.256     20000\n",
      "  37        38        1     0.256     20000\n"
     ]
    }
   ],
   "source": [
    "for i in bonds(u):\n",
    "    print(f\"  {i[0]+1:<5}     {i[1]+1:<5}     1     0.256     20000\")"
   ]
  },
  {
   "cell_type": "code",
   "execution_count": 28,
   "id": "50614444",
   "metadata": {},
   "outputs": [
    {
     "name": "stdout",
     "output_type": "stream",
     "text": [
      "  1         TC5     0     GRA     B1         1         36\n",
      "  2         TC5     0     GRA     B2         2         36\n",
      "  3         TC5     0     GRA     B3         3         36\n",
      "  4         TC5     0     GRA     B4         4         36\n",
      "  5         TC5     0     GRA     B5         5         36\n",
      "  6         TC5     0     GRA     B6         6         36\n",
      "  7         TC5     0     GRA     B7         7         36\n",
      "  8         TC5     0     GRA     B8         8         0\n",
      "  9         TC5     0     GRA     B9         9         36\n",
      "  10        TC5     0     GRA     B10        10        36\n",
      "  11        TC5     0     GRA     B11        11        0\n",
      "  12        TC5     0     GRA     B12        12        36\n",
      "  13        TC5     0     GRA     B13        13        36\n",
      "  14        TC5     0     GRA     B14        14        0\n",
      "  15        TC5     0     GRA     B15        15        36\n",
      "  16        TC5     0     GRA     B16        16        36\n",
      "  17        TC5     0     GRA     B17        17        36\n",
      "  18        TC5     0     GRA     B18        18        0\n",
      "  19        TC5     0     GRA     B19        19        36\n",
      "  20        TC5     0     GRA     B20        20        36\n",
      "  21        TC5     0     GRA     B21        21        0\n",
      "  22        TC5     0     GRA     B22        22        36\n",
      "  23        TC5     0     GRA     B23        23        36\n",
      "  24        TC5     0     GRA     B24        24        36\n",
      "  25        TC5     0     GRA     B25        25        0\n",
      "  26        TC5     0     GRA     B26        26        36\n",
      "  27        TC5     0     GRA     B27        27        36\n",
      "  28        TC5     0     GRA     B28        28        0\n",
      "  29        TC5     0     GRA     B29        29        36\n",
      "  30        TC5     0     GRA     B30        30        36\n",
      "  31        TC5     0     GRA     B31        31        0\n",
      "  32        TC5     0     GRA     B32        32        36\n",
      "  33        TC5     0     GRA     B33        33        36\n",
      "  34        TC5     0     GRA     B34        34        36\n",
      "  35        TC5     0     GRA     B35        35        36\n",
      "  36        TC5     0     GRA     B36        36        36\n",
      "  37        TC5     0     GRA     B37        37        36\n",
      "  38        TC5     0     GRA     B38        38        36\n"
     ]
    }
   ],
   "source": [
    "for i in range(1, u.atoms.n_atoms+1):\n",
    "    print(f\"  {i:<5}     TC5     0     GRA     B{i:<5}     {i:<5}     {int(u.atoms[i-1].mass)}\")\n",
    "    "
   ]
  },
  {
   "cell_type": "code",
   "execution_count": 29,
   "id": "b911d159",
   "metadata": {},
   "outputs": [
    {
     "data": {
      "text/plain": [
       "[[0, 1, 6, 8, 15, 16],\n",
       " [2, 3, 9, 11, 18, 19],\n",
       " [4, 5, 12, 14, 21, 22],\n",
       " [8, 9, 16, 18, 25, 26],\n",
       " [11, 12, 19, 21, 28, 29],\n",
       " [15, 16, 23, 25, 32, 33],\n",
       " [18, 19, 26, 28, 34, 35],\n",
       " [21, 22, 29, 31, 36, 37]]"
      ]
     },
     "execution_count": 29,
     "metadata": {},
     "output_type": "execute_result"
    }
   ],
   "source": [
    "hexagon(u)"
   ]
  },
  {
   "cell_type": "code",
   "execution_count": 93,
   "id": "93c689bc",
   "metadata": {},
   "outputs": [],
   "source": [
    "def virtual_sites(universe):\n",
    "    \n",
    "    ''' Identifying the vertics of hexagon around a virtual site '''\n",
    "    \n",
    "    b = u.atoms[u.atoms.masses == 0].indices\n",
    "    hexagon_indices = []\n",
    "    for i in b:\n",
    "        empty = []\n",
    "        \n",
    "        for j in u.atoms.indices:\n",
    "            if (2.55 <= calc_bonds(u.atoms[j].position, u.atoms[i].position) <= 2.57):\n",
    "                empty.append(u.atoms[j])\n",
    "        empty = sorted(empty, key = lambda x: x.position[1])\n",
    "        empty = [i.index for i in empty]\n",
    "        data = empty[:2] + empty[-2:]\n",
    "        data.append(u.atoms[i].index)\n",
    "        data = data[::-1]\n",
    "        hexagon_indices.append(data)\n",
    "        \n",
    "    return hexagon_indices"
   ]
  },
  {
   "cell_type": "code",
   "execution_count": 94,
   "id": "7b490479",
   "metadata": {},
   "outputs": [
    {
     "data": {
      "text/plain": [
       "[[7, 16, 15, 1, 0],\n",
       " [10, 19, 18, 3, 2],\n",
       " [13, 22, 21, 5, 4],\n",
       " [17, 26, 25, 9, 8],\n",
       " [20, 29, 28, 12, 11],\n",
       " [24, 33, 32, 16, 15],\n",
       " [27, 35, 34, 19, 18],\n",
       " [30, 37, 36, 22, 21]]"
      ]
     },
     "execution_count": 94,
     "metadata": {},
     "output_type": "execute_result"
    }
   ],
   "source": [
    "virtual_sites(u)"
   ]
  },
  {
   "cell_type": "code",
   "execution_count": 49,
   "id": "d62a3e20",
   "metadata": {},
   "outputs": [
    {
     "data": {
      "text/plain": [
       "[<Atom 1: X of type X of resname UNK, resid 1 and segid SYSTEM>,\n",
       " <Atom 2: X of type X of resname UNK, resid 1 and segid SYSTEM>,\n",
       " <Atom 8: X of type X of resname UNK, resid 1 and segid SYSTEM>,\n",
       " <Atom 7: X of type X of resname UNK, resid 1 and segid SYSTEM>,\n",
       " <Atom 9: X of type X of resname UNK, resid 1 and segid SYSTEM>,\n",
       " <Atom 16: X of type X of resname UNK, resid 1 and segid SYSTEM>,\n",
       " <Atom 17: X of type X of resname UNK, resid 1 and segid SYSTEM>]"
      ]
     },
     "execution_count": 49,
     "metadata": {},
     "output_type": "execute_result"
    }
   ],
   "source": [
    "sorted(virtual_site(u)[0], key = lambda x: x.position[1])"
   ]
  },
  {
   "cell_type": "code",
   "execution_count": 74,
   "id": "dd8e6725",
   "metadata": {},
   "outputs": [
    {
     "name": "stdout",
     "output_type": "stream",
     "text": [
      "7  16  15  1  0\n",
      "10  19  18  3  2\n",
      "13  22  21  5  4\n",
      "17  26  25  9  8\n",
      "20  29  28  12  11\n",
      "24  33  32  16  15\n",
      "27  35  34  19  18\n",
      "30  37  36  22  21\n"
     ]
    }
   ],
   "source": [
    "for i in exclusions(u):\n",
    "    print(*i, sep = '  ')"
   ]
  },
  {
   "cell_type": "code",
   "execution_count": 96,
   "id": "73ab5b9e",
   "metadata": {},
   "outputs": [
    {
     "name": "stdout",
     "output_type": "stream",
     "text": [
      "  8       1     17      16      2      1  \n",
      "  11      1     20      19      4      3  \n",
      "  14      1     23      22      6      5  \n",
      "  18      1     27      26      10     9  \n",
      "  21      1     30      29      13     12 \n",
      "  25      1     34      33      17     16 \n",
      "  28      1     36      35      20     19 \n",
      "  31      1     38      37      23     22 \n"
     ]
    }
   ],
   "source": [
    "for i in virtual_sites(u):\n",
    "    print(f\"  {i[0]+1:<3}     1     {i[1]+1:<3}     {i[2]+1:<3}     {i[3]+1:<3}    {i[4]+1:<3}\")"
   ]
  },
  {
   "cell_type": "code",
   "execution_count": 97,
   "id": "59b27188",
   "metadata": {},
   "outputs": [],
   "source": [
    "def exclusions(universe):\n",
    "    \n",
    "    ''' Identifying the vertics of hexagon around a virtual site '''\n",
    "    \n",
    "    b = u.atoms[u.atoms.masses == 0].indices\n",
    "    hexagon_indices = []\n",
    "    for i in b:\n",
    "        empty = []\n",
    "        empty.append(i)\n",
    "        for j in u.atoms.indices:\n",
    "            if (2.55 <= calc_bonds(u.atoms[j].position, u.atoms[i].position) <= 2.57):\n",
    "                empty.append(j)\n",
    "        \n",
    "        hexagon_indices.append(empty)\n",
    "    return hexagon_indices"
   ]
  },
  {
   "cell_type": "code",
   "execution_count": 82,
   "id": "62f742ee",
   "metadata": {},
   "outputs": [
    {
     "data": {
      "text/plain": [
       "[[0, 1, 6, 8, 15, 16, 7],\n",
       " [2, 3, 9, 11, 18, 19, 10],\n",
       " [4, 5, 12, 14, 21, 22, 13],\n",
       " [8, 9, 16, 18, 25, 26, 17],\n",
       " [11, 12, 19, 21, 28, 29, 20],\n",
       " [15, 16, 23, 25, 32, 33, 24],\n",
       " [18, 19, 26, 28, 34, 35, 27],\n",
       " [21, 22, 29, 31, 36, 37, 30]]"
      ]
     },
     "execution_count": 82,
     "metadata": {},
     "output_type": "execute_result"
    }
   ],
   "source": [
    "virtual_sites(u)"
   ]
  },
  {
   "cell_type": "code",
   "execution_count": 99,
   "id": "d64ffec9",
   "metadata": {},
   "outputs": [
    {
     "name": "stdout",
     "output_type": "stream",
     "text": [
      "  8       1       2       7      9       16      17 \n",
      "  11      3       4       10     12      19      20 \n",
      "  14      5       6       13     15      22      23 \n",
      "  18      9       10      17     19      26      27 \n",
      "  21      12      13      20     22      29      30 \n",
      "  25      16      17      24     26      33      34 \n",
      "  28      19      20      27     29      35      36 \n",
      "  31      22      23      30     32      37      38 \n"
     ]
    }
   ],
   "source": [
    "for i in exclusions(u):\n",
    "    print(f\"  {i[0]+1:<3}     {i[1]+1:<3}     {i[2]+1:<3}     {i[3]+1:<3}    {i[4]+1:<3}     {i[5]+1:<3}     {i[6]+1:<3}\")"
   ]
  },
  {
   "cell_type": "code",
   "execution_count": 88,
   "id": "a55ed9b6",
   "metadata": {},
   "outputs": [
    {
     "data": {
      "text/plain": [
       "array([36., 36., 36., 36., 36., 36., 36.,  0., 36., 36.,  0., 36., 36.,\n",
       "        0., 36., 36., 36.,  0., 36., 36.,  0., 36., 36., 36.,  0., 36.,\n",
       "       36.,  0., 36., 36.,  0., 36., 36., 36., 36., 36., 36., 36.])"
      ]
     },
     "execution_count": 88,
     "metadata": {},
     "output_type": "execute_result"
    }
   ],
   "source": [
    "u.atoms.masses"
   ]
  },
  {
   "cell_type": "code",
   "execution_count": 89,
   "id": "fc507060",
   "metadata": {},
   "outputs": [],
   "source": [
    "u.atoms.masses = 36"
   ]
  },
  {
   "cell_type": "code",
   "execution_count": 90,
   "id": "9cabe814",
   "metadata": {},
   "outputs": [
    {
     "data": {
      "text/plain": [
       "array([36., 36., 36., 36., 36., 36., 36., 36., 36., 36., 36., 36., 36.,\n",
       "       36., 36., 36., 36., 36., 36., 36., 36., 36., 36., 36., 36., 36.,\n",
       "       36., 36., 36., 36., 36., 36., 36., 36., 36., 36., 36., 36.])"
      ]
     },
     "execution_count": 90,
     "metadata": {},
     "output_type": "execute_result"
    }
   ],
   "source": [
    "u.atoms.masses"
   ]
  },
  {
   "cell_type": "code",
   "execution_count": null,
   "id": "ed314df1",
   "metadata": {},
   "outputs": [],
   "source": [
    "def mass_virtual(universe):\n",
    "    vs = virtual_site1(new_list) + virtual_site2(list_of)\n",
    "    dc = {}\n",
    "    il = []\n",
    "    for i in list_of:\n",
    "        for j in i:\n",
    "            il.append(j)\n",
    "    for i in il:\n",
    "        dc[i] = 36\n",
    "    \n",
    "    for i in range(len(vs)):\n",
    "        dc[vs[i][0]] = 0\n",
    "        \n",
    "    for i in range(len(vs)):\n",
    "        for j, k in dc.items():\n",
    "            if j in vs[i][-2:]:\n",
    "                dc[j] +=18\n",
    "        \n",
    "    return dc"
   ]
  },
  {
   "cell_type": "code",
   "execution_count": null,
   "id": "6d61a3f2",
   "metadata": {},
   "outputs": [],
   "source": [
    "dc = {}\n",
    "il = []\n"
   ]
  }
 ],
 "metadata": {
  "kernelspec": {
   "display_name": "Python 3 (ipykernel)",
   "language": "python",
   "name": "python3"
  },
  "language_info": {
   "codemirror_mode": {
    "name": "ipython",
    "version": 3
   },
   "file_extension": ".py",
   "mimetype": "text/x-python",
   "name": "python",
   "nbconvert_exporter": "python",
   "pygments_lexer": "ipython3",
   "version": "3.9.7"
  }
 },
 "nbformat": 4,
 "nbformat_minor": 5
}
